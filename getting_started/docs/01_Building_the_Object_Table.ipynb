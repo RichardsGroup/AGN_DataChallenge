{
 "cells": [
  {
   "cell_type": "markdown",
   "metadata": {},
   "source": [
    "## Building the Object Table(s)\n",
    "\n",
    "This notebook describes how the 'Object' tables are constructed, starting with the **Stripe 82** dataset and followed the **XMM-LSS** dataset. The two 'Object' tables are merged into one in the end."
   ]
  },
  {
   "cell_type": "markdown",
   "metadata": {},
   "source": [
    "### **1. Stripe 82**\n",
    "```bash\n",
    "-> s82ObjectTable.parquet\n",
    "```\n",
    "The __Stripe 82__ region in this data challenge is larger than the SDSS Stripe 82 area, where the **DES** and **HSC** Stripe 82 coverage have been included. The exact footprint is provided below:\n",
    "\n",
    "| RA         | Dec           |\n",
    "| ---------- | ------------- |\n",
    "| (-60, -43] | (-1.25, 1.25) |\n",
    "| (-43, 0]   | (-2, 2)       |\n",
    "| (0, 45]    | (-7, 5)       |\n",
    "| (45, 60)   | (-1.25, 1.25) |\n",
    "\n",
    "\n",
    "The Stripe 82 dataset consists of quasars/AGNs, galaxies and stars, where not all sources have been spectroscopically classified. Next, we will walk through each catagory of measurements included in the object(s) table and provide details on how they are derived. The nomenclature used here follows (as much as possible) that used in the LSST Data Products document - [LSE-163](https://github.com/lsst/LSE-163). __The units for the measurements included have also been converted to that used in the [LSE-163](https://github.com/lsst/LSE-163) document__."
   ]
  },
  {
   "cell_type": "markdown",
   "metadata": {},
   "source": [
    "### 1.1 Astrometry\n",
    "- `ra`, `dec`\n",
    "- `psPm_ra`, `psPm_dec`\n",
    "- `psParallax`\n",
    "\n",
    "1. `ra` and `dec` are in __degrees__ (J2000)\n",
    "2. `psPm_ra` and `psPm_dec` are proper motion measurements obtained by mathcing the objects in our sample to GAIA EDR3 and the NOIRLab Source Catalog (NSC) [DR2](https://datalab.noao.edu/nscdr2/index.php). Proper motion measurements from GAIA take the precedence when matches are found in both GAIA and NSC. \n",
    "3. `psParallax` measurements come from GAIA EDR3."
   ]
  },
  {
   "cell_type": "markdown",
   "metadata": {},
   "source": [
    "### 1.2 Photometry\n",
    "- `psMag`, `psMagErr`\n",
    "- `bdMag`, `bdMagErr`\n",
    "\n",
    "    >__Note__ that magnitude is NOT included in the data release catalog as per the current version of the data model, however we are providing the information here for completeness. \n",
    "\n",
    "    We match the objects in our dataset to both SDSS and DES DR2 for photometry and pick one by the following order: **_DES_ -> _SDSS Stripe 82 Coadd_ -> _SDSS DR16_** (with decreasing precedence). \n",
    "\n",
    "    1. The point-source magnitude ('psMag') is filled by 'psfmag' from SDSS or 'wavg_mag_psf' (weighted-average single epoch PSF magnitude) from DES. \n",
    "    \n",
    "    2. The extended-source magnitude ('bdMag') is filled using 'modelmag' from SDSS or 'magauto' (measured on coadded images) from DES."
   ]
  },
  {
   "cell_type": "markdown",
   "metadata": {},
   "source": [
    "- `psFlux`, `psFluxErr`\n",
    "- `bdFlux`, `bdFluxErr`\n",
    "\n",
    "    > __Note__: The LSST Data Products document listed two flux measurments for extended objects, `bdFluxB` and `bdFluxD`, from a bulge+disk fitting. In this data challenge, we only include one flux measurement for extended sources.\n",
    "\n",
    "__A. SDSS asinh magnitude to flux:__\n",
    "1. The convertion from asinh magnitude (SDSS) to flux (nJy) follows the procedures provided by the SDSS online documentation at [here](https://www.sdss.org/dr16/algorithms/magnitudes/#asinh) and [here](https://www.sdss.org/dr16/algorithms/fluxcal/#SDSStoAB).\n",
    "2. The convertion from asinh magnitude error to flux error follows the formula provided by [NED](https://ned.ipac.caltech.edu/help/sdss/dr6/photometry.html), which can be derived by taking the derivative of the convertion from asinh magnitude to flux:\n",
    "\n",
    "$$\\delta f= |\\frac{-f*\\delta m/a}{tanh((-m/a)-ln(b))}|$$\n",
    "\n",
    "where f is the flux, m is SDSS asinh magnitude, a = $2.5/ln(10)$, b is the 'softening' parameter and $\\delta f$ and $\\delta m$ are the associated errors.\n",
    "    \n",
    "__B. AB magnitude to flux:__\n",
    "1. From AB magnitude to flux follows the definition of AB magnitude:\n",
    "\n",
    "$$m_{AB} = -2.5*log_{10}(\\frac{f}{3631 Jy})$$\n",
    "\n",
    "2. The flux error can be obtained using:\n",
    "\n",
    "$$\\delta f = f*|(e^{\\delta m/a} -1|$$\n",
    "\n",
    "where a = $2.5/ln(10)$, derived from $\\delta m \\approx 2.5/ln\\,(10)*ln\\,(1+\\delta f/f)$"
   ]
  },
  {
   "cell_type": "markdown",
   "metadata": {},
   "source": [
    "### 1.3 Extendedness (morphology)\n",
    "- `extendedness`\n",
    "\n",
    "    Per the LSST Data Products document, 'A measure of extendedness, computed using a combination of available moments, or from a likelihood ratio of point/B+D source models (exact algorithm TBD). `extendedness` = 1 implies a high degree of confidence that the source is extended. `extendedness` = 0 implies a high degree of confidence that the source is point-like.'\n",
    "\n",
    "    We use the `probPSF` from SDSS and `class_star` from DES (depending on whose photometry is used) to fill this columns. However, both `probPSF` and `class_star` (from Sextractor) use 1 to indicate point-like and 0 for extended, which is opposite to the definition of the `extendedness` parameters, thus we inverted `probPSF`/`class_star`:\n",
    "\n",
    "    $$ extendedness = 1 - probPSF$$ \n",
    "\n",
    "    or \n",
    "\n",
    "    $$ extendedness = 1 - class\\_star$$ "
   ]
  },
  {
   "cell_type": "markdown",
   "metadata": {},
   "source": [
    "### 1.4 Standard Color and Error\n",
    "- `stdColor`\n",
    "\n",
    "    The standard colors, u-g, g-r, r-i, i-z, z-y, are derived by first computing the ratios of the fluxes from different bands and take the log of the ratios:\n",
    "\n",
    "    $$C = -2.5*log_{10}(flux\\_ratio)$$\n",
    "\n",
    "    where C is the color."
   ]
  },
  {
   "cell_type": "markdown",
   "metadata": {},
   "source": [
    "- `stdColorErr`\n",
    "\n",
    "    The error on the color is derived through standard uncertainty propagation.\n",
    "\n",
    "    -> __*Variance on the flux ratio (assuming no correlation between flux errors):*__\n",
    "\n",
    "    $$\\mathrm{Var}(f_{1}/f_{2}) = (f_{1}/f_{2})^{2}[(\\delta f_{1}/f_{1})^{2} + (\\delta f_{2}/f_{2})^{2}]$$\n",
    "\n",
    "    -> __*Propagating the error on flux ratio to colors (in magnitude):*__\n",
    "\n",
    "    $$\\mathrm{Var(C)} = a^{2}*\\frac{\\mathrm{Var}(f_{1}/f_{2})}{(f_{1}/f_{2})^{2}}$$ \n",
    "\n",
    "    where C stands for the color, a = $2.5/ln(10)$ and $f_{1} and f_{2}$ are the fluxes of the sources in the two bands used to compute the color."
   ]
  },
  {
   "cell_type": "markdown",
   "metadata": {},
   "source": [
    "### 1.5 lcPeriodic & lcNonPeriodic\n",
    "- `lcPeriodic`\n",
    "- `lcNonPeriodic`\n",
    "\n",
    "See the [04_LC_features.ipynb](04_LC_features.ipynb) notebooks for more details on the light curve features computed."
   ]
  },
  {
   "cell_type": "markdown",
   "metadata": {},
   "source": [
    "### 1.6 Photometric Redshift\n",
    "- `photoZ_pest`\n",
    "We are filling in this column with SDSS DR16 galaxy photometric redshift (photo-z), see [here](https://www.sdss.org/dr16/algorithms/photo-z/) for more on the exact algorithm used to compute the photo-z. A matching raidus of 1 arcsec is used. "
   ]
  },
  {
   "cell_type": "markdown",
   "metadata": {},
   "source": [
    "### __2. XMM-LSS__\n",
    "```bash\n",
    "-> xmmlssObjectTable.parquet\n",
    "```\n",
    "The footprint is:\n",
    "\n",
    "| RA             | Dec            |\n",
    "| -------------- | -------------- |\n",
    "| [34.2, 37.125] | [-5.72, -3.87] |\n",
    "\n",
    "The __XMM-LSS__ region defined above is actually part of our extended Stripe 82 area, however, because of the extensive and deep multiwavelength (e.g., X-ray, IR, radio) coverage on this region, we built a seperate table for this region and combine it with the Stripe 82 dataset in the end. \n",
    "\n",
    "The basically procedure for building the __XMM-LSS__ dataset is essentially the same as that used for the Stripe 82 dataset. Thus we will briefly go through the different catategory of columns and only emphasize on showing the differences. "
   ]
  },
  {
   "cell_type": "markdown",
   "metadata": {},
   "source": [
    "### 2.1 Astrometry\n",
    "See Section 1.1."
   ]
  },
  {
   "cell_type": "markdown",
   "metadata": {},
   "source": [
    "### 2.2 Photometry"
   ]
  },
  {
   "cell_type": "markdown",
   "metadata": {},
   "source": [
    "- `psMag`, `psMagErr`\n",
    "- `bdMag`, `bdMagErr`\n",
    "- `psFlux`, `psFluxErr`\n",
    "- `bdFlux`, `bdFluxErr`\n",
    "\n",
    "\n",
    "__-> u band:__\n",
    "\n",
    "The __XMM-LSS__ field is coverd by the Canada-France-Hawaii Telescope Legacy Survey ([CFHTLS](https://www.cfht.hawaii.edu/Science/CFHTLS/)). We mathed our initial sample to the CFHTLS DR7 hosted on [VizieR](http://vizier.cfa.harvard.edu/viz-bin/VizieR-3?-source=II/317/cfhtls_w). We used the 3\" aperture magnitude to fill the 'psMag' column and the 'mag_auto' (Kron-like aperture) to fill the 'bdMag' column. The fluxes are computed following the standard definition of AB magnitude (see Section 1.2). \n",
    "\n",
    "__-> 'grizy' bands:__\n",
    "\n",
    "All quantities are computed using the LSST pipeline run on HSC images. We used the 'm_base_psfflux_' to populate the 'psMag' and 'psFlux' columns and the 'm_base_gaussianflux_' to fill the 'bdMag' and 'bdFlux' columns."
   ]
  },
  {
   "cell_type": "markdown",
   "metadata": {},
   "source": [
    "### 2.3 Extendedness (morphology)\n",
    "- `extendedness`\n",
    "\n",
    "__-> u band:__\n",
    "\n",
    "Filled by the 'class_star' measurement from the CFHTLS catalog, inverted following the instruction given in Section 1.3 before populating.\n",
    "\n",
    "__-> 'grizy' bands:__\n",
    "\n",
    "LSST pipeline output this parameter for every photometric measurement. "
   ]
  },
  {
   "cell_type": "markdown",
   "metadata": {},
   "source": [
    "### 2.4 Standard Color and Error\n",
    "See Section 1.4."
   ]
  },
  {
   "cell_type": "markdown",
   "metadata": {},
   "source": [
    "### 2.5 lcPeriodic & lcNonPeriodic\n",
    "Not public time-domain data found in this area, which can match the depths of HSC, thus N/A."
   ]
  },
  {
   "cell_type": "markdown",
   "metadata": {},
   "source": [
    "### 2.6 Photo-z\n",
    "- For AGNs in this region, the photo-z are provided by the XMM-SERVS team as documented in the [paper](https://academic.oup.com/mnras/article-abstract/478/2/2132/4985846?redirectedFrom=fulltext). \n",
    "- For other source, we matched them to the SDSS DR16 photo-z catalog (see Section 1.6)."
   ]
  },
  {
   "cell_type": "markdown",
   "metadata": {},
   "source": [
    "### 3. The 'Object' Table\n",
    "```bash\n",
    "-> ObjectTable.parquet\n",
    "```\n",
    "The last step is to merge the __Stripe 82__ object table and the __XMM-LSS__ object table. We did that by matching the __XMM-LSS__ source with the __Stripe 82__ sources using a 1 arcsec raidus. The Stripe 82 sources that have counterparts in the XMM-LSS sample are removed from the final merged table. "
   ]
  }
 ],
 "metadata": {
  "kernelspec": {
   "display_name": "AGN DC",
   "language": "python",
   "name": "agndc"
  },
  "language_info": {
   "codemirror_mode": {
    "name": "ipython",
    "version": 3
   },
   "file_extension": ".py",
   "mimetype": "text/x-python",
   "name": "python",
   "nbconvert_exporter": "python",
   "pygments_lexer": "ipython3",
   "version": "3.9.5"
  }
 },
 "nbformat": 4,
 "nbformat_minor": 4
}
