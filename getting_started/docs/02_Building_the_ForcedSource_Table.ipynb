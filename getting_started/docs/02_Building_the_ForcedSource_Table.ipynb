{
 "cells": [
  {
   "cell_type": "markdown",
   "metadata": {},
   "source": [
    "## Building the ForcedSource Table\n",
    "```bash\n",
    "-> ForcedSourceTable.parquet\n",
    "```\n",
    "The time-domain data included in this data challenge are drawn from the SDSS, so only the sources in the SDSS Stripe 82 region have correpsonding light curves.\n",
    "\n",
    "For LSST, light curves will be generated using force photometry performed at some fixed positions. The light curves included here are collected by cross matching our initial sample with the SDSS Stripe 82 multi-epoch catalog using a matching raidus of 1 arcsec.\n",
    "\n",
    "Similar to what we did in the [01_Building_the_Object_Table.ipynb](01_Building_the_Object_Table.ipynb) notebook, we will go through the columns included in the 'ForcedSource' table and describe how we populated those columns. "
   ]
  },
  {
   "cell_type": "markdown",
   "metadata": {},
   "source": [
    "#### 1. IDs\n",
    "- `objectId`: Used to associate light curves with objects in the object table."
   ]
  },
  {
   "cell_type": "markdown",
   "metadata": {},
   "source": [
    "#### 2. mjd\n",
    "MJD is not among the columns in the 'Forced Sources' table, but it can be obtained by joining the 'Forced Sources' table with other tables when the LSST come online. "
   ]
  },
  {
   "cell_type": "markdown",
   "metadata": {},
   "source": [
    "#### 3. Photometry\n",
    "- `psMag`, `psMagErr`\n",
    "- `psFlux`, `psFluxErr`\n",
    "\n",
    "The magnitudes are simply the SDSS asinh magnitudes. The fluxes are derived using the procedure introduced in Section 1.2 of the [01_Building_the_Object_Table.ipynb](01_Building_the_Object_Table.ipynb) notebook."
   ]
  },
  {
   "cell_type": "markdown",
   "metadata": {},
   "source": [
    "#### 4. Difference Photometry\n",
    "- `psDiffFlux`, `psDiffFluxErr`\n",
    "\n",
    "We started by picking the epoch with the median flux as the reference epoch and computed the difference flux relative to that reference epoch. The error on the difference flux was derived using standard uncertainty proporagation:\n",
    "\n",
    "$$\\mathrm{psDiffFluxErr}_{i} = \\sqrt{\\mathrm{psFluxErr}_{i}^{2} - \\mathrm{psFluxErr}_{ref}^{2}}$$"
   ]
  },
  {
   "cell_type": "markdown",
   "metadata": {},
   "source": [
    "#### 5. flags\n",
    "SDSS photometry flags. See [here](https://www.sdss.org/dr16/algorithms/photo_flags/) for a thorough discussion."
   ]
  },
  {
   "cell_type": "markdown",
   "metadata": {},
   "source": [
    "#### 6. filter\n",
    "This column won't be provided in the norminal 'ForcedSource' table either, but it can be obtained by joining with other tables."
   ]
  }
 ],
 "metadata": {
  "kernelspec": {
   "display_name": "AGN DC",
   "language": "python",
   "name": "agndc"
  },
  "language_info": {
   "codemirror_mode": {
    "name": "ipython",
    "version": 3
   },
   "file_extension": ".py",
   "mimetype": "text/x-python",
   "name": "python",
   "nbconvert_exporter": "python",
   "pygments_lexer": "ipython3",
   "version": "3.9.5"
  }
 },
 "nbformat": 4,
 "nbformat_minor": 4
}
