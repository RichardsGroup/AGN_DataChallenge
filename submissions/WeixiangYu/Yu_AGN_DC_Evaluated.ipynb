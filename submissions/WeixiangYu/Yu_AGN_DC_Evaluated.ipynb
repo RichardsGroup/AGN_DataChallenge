{
 "cells": [
  {
   "cell_type": "markdown",
   "metadata": {},
   "source": [
    "## LSSTC AGN Data Challenge Submission\n",
    "**By:** Weixiang Yu\n",
    "<br>\n",
    "**Summary:**\n",
    "The aim for this submission is to explore how well we can classify sources into three classes: 'Qso/Agn', 'Gal' and 'Star' using easy to compute light curves statistics, optical color, astrometry (proper motion) and density maps created using light curves. The so called density map is essentially a 2D distribution of variability power in the timescale and magnitude space. This format of expressing variability information was first introduced in [Mahabal+17](https://arxiv.org/pdf/1709.06257.pdf), the actual algorithm used here to generate the density maps is a modified version of that shown in that paper. I would also like to explore the performance of the trained model on objects with less ideal data quality, primarily those with less than 30 epochs in their light curves where model fitting (e.g., using a damped random walk, which has shown promise) becomes expensive and unreliable."
   ]
  },
  {
   "cell_type": "markdown",
   "metadata": {},
   "source": [
    "##### **Features Utilized**\n",
    "- Density Maps (pre-computed from light curves)\n",
    "- Simple light curves statistics from the `lcNonPeriodic` category, specifically with index, 9, 13, 15, 19, 20, 22, 25, 26. See [here](https://github.com/RichardsGroup/AGN_DataChallenge/blob/main/docs/lc_feats.yml) for the actual variability metric corresponding to each index.\n",
    "- Five optical colors (`stdColor[0-4]`)\n",
    "- Proper motion (not all from Gaia) "
   ]
  },
  {
   "cell_type": "markdown",
   "metadata": {},
   "source": [
    "##### **How to reproduce**\n",
    "This notebook doesn't require GPU to run. The density maps have been generated ahead of time and are stored in the shared volume at `/home/idies/workspace/Temporary/ywx649999311/LSST_AGN/Yu_dm`.\n",
    "- __Compute Image__: SciServer Essential 2.0\n",
    "- __Conda environment__: py38\n",
    "- __Additional pacakages__: pyarrow, h5py"
   ]
  },
  {
   "cell_type": "markdown",
   "metadata": {},
   "source": [
    "##### **Note on Data Requirement**\n",
    "I performed a set cleaning of the object table before training/testing the ML model, which are:\n",
    "- Must have all `u-g`, `g-r`, `r-i` and `z-i` colors. Objects without them are most likely to be too faint thus producing negative fluxes.\n",
    "- Must have the most basic light curve features (e.g., standard deviation) computed. This cut is equivalent to requesting the associated light curves to have more than 5 data points.\n",
    "- Must have proper motion measurements. "
   ]
  },
  {
   "cell_type": "markdown",
   "metadata": {},
   "source": [
    "##### **Main Contents**\n",
    "This notebook will be split into the following sections:\n",
    "1. Prepare dataset and show a couple selected density maps\n",
    "2. Train/Test on a subset with less than 30 epochs in their r-band light curves\n",
    "3. Train/Test on a random subset (20%) of those meeting the above three cuts\n",
    "4. Show how to test on the blinded dataset using the model trained on the entire \n",
    "labeled dataset. "
   ]
  },
  {
   "cell_type": "code",
   "execution_count": 1,
   "metadata": {},
   "outputs": [],
   "source": [
    "# common modules\n",
    "import pandas as pd\n",
    "import numpy as np\n",
    "import os, sys\n",
    "from collections import Counter\n",
    "import h5py\n",
    "\n",
    "# TensorFlow & sklearn\n",
    "import tensorflow as tf\n",
    "from sklearn.model_selection import train_test_split\n",
    "from tensorflow.keras import datasets, layers, models\n",
    "from sklearn.metrics import confusion_matrix, ConfusionMatrixDisplay\n",
    "\n",
    "from matplotlib import pyplot as plt\n",
    "import matplotlib as mpl\n",
    "%matplotlib inline\n",
    "mpl.rc_file('https://raw.githubusercontent.com/ywx649999311/configs/master/viz/yuBasic.rc')\n",
    "\n",
    "# dm folder & DC folder\n",
    "dm_dir = '/home/idies/workspace/Temporary/ywx649999311/LSST_AGN/Yu_dm'\n",
    "data_dir = \"/home/idies/workspace/Temporary/ywx649999311/LSST_AGN/Class_Training/DC/\""
   ]
  },
  {
   "cell_type": "markdown",
   "metadata": {},
   "source": [
    "### 1 Prepare Dataset"
   ]
  },
  {
   "cell_type": "markdown",
   "metadata": {},
   "source": [
    "#### 1.1 Import object table and clean up"
   ]
  },
  {
   "cell_type": "code",
   "execution_count": 2,
   "metadata": {},
   "outputs": [
    {
     "name": "stdout",
     "output_type": "stream",
     "text": [
      "Total number of useable objects: 151937\n"
     ]
    }
   ],
   "source": [
    "# import object table\n",
    "object_df = pd.read_parquet(os.path.join(data_dir, 'ObjectTable.parquet'))\n",
    "\n",
    "# select the objects that have time domain data\n",
    "lc_cols = [col for col in object_df.columns if 'Periodic' in col]\n",
    "td_objects = object_df.dropna(subset=lc_cols, how='all').copy()\n",
    "\n",
    "# require having proper motion and the first four color\n",
    "color_cols = [col for col in object_df.columns \n",
    "              if ('stdColor' in col) & ('Err' not in col) & ('4' not in col)]\n",
    "td_objects = td_objects.dropna(subset=['psPm_ra', 'psPm_dec']+color_cols, \n",
    "                               how='any')\n",
    "\n",
    "# require only those having a label in ['Qso', 'Agn', 'Gal', 'Star']\n",
    "td_objects = td_objects[td_objects['class'].isin(\n",
    "    ['Qso', 'Agn', 'Gal', 'Star'])].copy()\n",
    "\n",
    "print(f'Total number of useable objects: {td_objects.shape[0]}')"
   ]
  },
  {
   "cell_type": "code",
   "execution_count": 3,
   "metadata": {},
   "outputs": [
    {
     "data": {
      "text/html": [
       "<div>\n",
       "<style scoped>\n",
       "    .dataframe tbody tr th:only-of-type {\n",
       "        vertical-align: middle;\n",
       "    }\n",
       "\n",
       "    .dataframe tbody tr th {\n",
       "        vertical-align: top;\n",
       "    }\n",
       "\n",
       "    .dataframe thead th {\n",
       "        text-align: right;\n",
       "    }\n",
       "</style>\n",
       "<table border=\"1\" class=\"dataframe\">\n",
       "  <thead>\n",
       "    <tr style=\"text-align: right;\">\n",
       "      <th></th>\n",
       "      <th>ra</th>\n",
       "      <th>dec</th>\n",
       "      <th>psPm_ra</th>\n",
       "      <th>psPm_dec</th>\n",
       "      <th>psParallax</th>\n",
       "      <th>psFlux_u</th>\n",
       "      <th>psFlux_g</th>\n",
       "      <th>psFlux_r</th>\n",
       "      <th>psFlux_i</th>\n",
       "      <th>psFlux_z</th>\n",
       "      <th>...</th>\n",
       "      <th>lcNonPeriodic[27]_u</th>\n",
       "      <th>lcNonPeriodic[27]_g</th>\n",
       "      <th>lcNonPeriodic[27]_r</th>\n",
       "      <th>lcNonPeriodic[27]_i</th>\n",
       "      <th>lcNonPeriodic[27]_z</th>\n",
       "      <th>lcNonPeriodic[28]_u</th>\n",
       "      <th>lcNonPeriodic[28]_g</th>\n",
       "      <th>lcNonPeriodic[28]_r</th>\n",
       "      <th>lcNonPeriodic[28]_i</th>\n",
       "      <th>lcNonPeriodic[28]_z</th>\n",
       "    </tr>\n",
       "    <tr>\n",
       "      <th>class</th>\n",
       "      <th></th>\n",
       "      <th></th>\n",
       "      <th></th>\n",
       "      <th></th>\n",
       "      <th></th>\n",
       "      <th></th>\n",
       "      <th></th>\n",
       "      <th></th>\n",
       "      <th></th>\n",
       "      <th></th>\n",
       "      <th></th>\n",
       "      <th></th>\n",
       "      <th></th>\n",
       "      <th></th>\n",
       "      <th></th>\n",
       "      <th></th>\n",
       "      <th></th>\n",
       "      <th></th>\n",
       "      <th></th>\n",
       "      <th></th>\n",
       "      <th></th>\n",
       "    </tr>\n",
       "  </thead>\n",
       "  <tbody>\n",
       "    <tr>\n",
       "      <th>Agn</th>\n",
       "      <td>286</td>\n",
       "      <td>286</td>\n",
       "      <td>286</td>\n",
       "      <td>286</td>\n",
       "      <td>8</td>\n",
       "      <td>286</td>\n",
       "      <td>286</td>\n",
       "      <td>286</td>\n",
       "      <td>286</td>\n",
       "      <td>286</td>\n",
       "      <td>...</td>\n",
       "      <td>285</td>\n",
       "      <td>285</td>\n",
       "      <td>285</td>\n",
       "      <td>285</td>\n",
       "      <td>285</td>\n",
       "      <td>285</td>\n",
       "      <td>285</td>\n",
       "      <td>285</td>\n",
       "      <td>285</td>\n",
       "      <td>285</td>\n",
       "    </tr>\n",
       "    <tr>\n",
       "      <th>Gal</th>\n",
       "      <td>52428</td>\n",
       "      <td>52428</td>\n",
       "      <td>52428</td>\n",
       "      <td>52428</td>\n",
       "      <td>88</td>\n",
       "      <td>52428</td>\n",
       "      <td>52428</td>\n",
       "      <td>52428</td>\n",
       "      <td>52428</td>\n",
       "      <td>52428</td>\n",
       "      <td>...</td>\n",
       "      <td>50619</td>\n",
       "      <td>50618</td>\n",
       "      <td>50619</td>\n",
       "      <td>50617</td>\n",
       "      <td>50618</td>\n",
       "      <td>50619</td>\n",
       "      <td>50618</td>\n",
       "      <td>50619</td>\n",
       "      <td>50617</td>\n",
       "      <td>50618</td>\n",
       "    </tr>\n",
       "    <tr>\n",
       "      <th>Qso</th>\n",
       "      <td>31622</td>\n",
       "      <td>31622</td>\n",
       "      <td>31622</td>\n",
       "      <td>31622</td>\n",
       "      <td>11635</td>\n",
       "      <td>31622</td>\n",
       "      <td>31622</td>\n",
       "      <td>31622</td>\n",
       "      <td>31622</td>\n",
       "      <td>31622</td>\n",
       "      <td>...</td>\n",
       "      <td>31563</td>\n",
       "      <td>31562</td>\n",
       "      <td>31563</td>\n",
       "      <td>31563</td>\n",
       "      <td>31563</td>\n",
       "      <td>31563</td>\n",
       "      <td>31562</td>\n",
       "      <td>31563</td>\n",
       "      <td>31563</td>\n",
       "      <td>31563</td>\n",
       "    </tr>\n",
       "    <tr>\n",
       "      <th>Star</th>\n",
       "      <td>67601</td>\n",
       "      <td>67601</td>\n",
       "      <td>67601</td>\n",
       "      <td>67601</td>\n",
       "      <td>65309</td>\n",
       "      <td>67601</td>\n",
       "      <td>67601</td>\n",
       "      <td>67601</td>\n",
       "      <td>67601</td>\n",
       "      <td>67601</td>\n",
       "      <td>...</td>\n",
       "      <td>67564</td>\n",
       "      <td>67564</td>\n",
       "      <td>67562</td>\n",
       "      <td>67563</td>\n",
       "      <td>67565</td>\n",
       "      <td>67564</td>\n",
       "      <td>67564</td>\n",
       "      <td>67562</td>\n",
       "      <td>67563</td>\n",
       "      <td>67565</td>\n",
       "    </tr>\n",
       "  </tbody>\n",
       "</table>\n",
       "<p>4 rows × 379 columns</p>\n",
       "</div>"
      ],
      "text/plain": [
       "          ra    dec  psPm_ra  psPm_dec  psParallax  psFlux_u  psFlux_g  \\\n",
       "class                                                                    \n",
       "Agn      286    286      286       286           8       286       286   \n",
       "Gal    52428  52428    52428     52428          88     52428     52428   \n",
       "Qso    31622  31622    31622     31622       11635     31622     31622   \n",
       "Star   67601  67601    67601     67601       65309     67601     67601   \n",
       "\n",
       "       psFlux_r  psFlux_i  psFlux_z  ...  lcNonPeriodic[27]_u  \\\n",
       "class                                ...                        \n",
       "Agn         286       286       286  ...                  285   \n",
       "Gal       52428     52428     52428  ...                50619   \n",
       "Qso       31622     31622     31622  ...                31563   \n",
       "Star      67601     67601     67601  ...                67564   \n",
       "\n",
       "       lcNonPeriodic[27]_g  lcNonPeriodic[27]_r  lcNonPeriodic[27]_i  \\\n",
       "class                                                                  \n",
       "Agn                    285                  285                  285   \n",
       "Gal                  50618                50619                50617   \n",
       "Qso                  31562                31563                31563   \n",
       "Star                 67564                67562                67563   \n",
       "\n",
       "       lcNonPeriodic[27]_z  lcNonPeriodic[28]_u  lcNonPeriodic[28]_g  \\\n",
       "class                                                                  \n",
       "Agn                    285                  285                  285   \n",
       "Gal                  50618                50619                50618   \n",
       "Qso                  31563                31563                31562   \n",
       "Star                 67565                67564                67564   \n",
       "\n",
       "       lcNonPeriodic[28]_r  lcNonPeriodic[28]_i  lcNonPeriodic[28]_z  \n",
       "class                                                                 \n",
       "Agn                    285                  285                  285  \n",
       "Gal                  50619                50617                50618  \n",
       "Qso                  31563                31563                31563  \n",
       "Star                 67562                67563                67565  \n",
       "\n",
       "[4 rows x 379 columns]"
      ]
     },
     "execution_count": 3,
     "metadata": {},
     "output_type": "execute_result"
    }
   ],
   "source": [
    "td_objects.groupby('class').count()"
   ]
  },
  {
   "cell_type": "markdown",
   "metadata": {},
   "source": [
    "#### 1.2 Import ForcedSource table and compute N epochs in r-band"
   ]
  },
  {
   "cell_type": "code",
   "execution_count": 3,
   "metadata": {},
   "outputs": [],
   "source": [
    "fs_df = pd.read_parquet(os.path.join(data_dir, 'ForcedSourceTable.parquet'))\n",
    "\n",
    "# groupby forcedsource table by object_id\n",
    "fs_gp = fs_df.groupby(['objectId'])\n",
    "\n",
    "# get only r band df and gp\n",
    "fs_df_r = fs_df[fs_df['filter'] == 2]\n",
    "fs_gp_r = fs_df_r.groupby(['objectId'])\n",
    "\n",
    "# compute and assign the number epoch in r band\n",
    "lcN_r = fs_gp_r.size()\n",
    "lcN_r.name = 'lcN_r'"
   ]
  },
  {
   "cell_type": "code",
   "execution_count": 4,
   "metadata": {},
   "outputs": [
    {
     "data": {
      "text/html": [
       "<div>\n",
       "<style scoped>\n",
       "    .dataframe tbody tr th:only-of-type {\n",
       "        vertical-align: middle;\n",
       "    }\n",
       "\n",
       "    .dataframe tbody tr th {\n",
       "        vertical-align: top;\n",
       "    }\n",
       "\n",
       "    .dataframe thead th {\n",
       "        text-align: right;\n",
       "    }\n",
       "</style>\n",
       "<table border=\"1\" class=\"dataframe\">\n",
       "  <thead>\n",
       "    <tr style=\"text-align: right;\">\n",
       "      <th></th>\n",
       "      <th>ra</th>\n",
       "      <th>dec</th>\n",
       "      <th>psPm_ra</th>\n",
       "      <th>psPm_dec</th>\n",
       "      <th>psParallax</th>\n",
       "      <th>psFlux_u</th>\n",
       "      <th>psFlux_g</th>\n",
       "      <th>psFlux_r</th>\n",
       "      <th>psFlux_i</th>\n",
       "      <th>psFlux_z</th>\n",
       "      <th>...</th>\n",
       "      <th>lcNonPeriodic[27]_g</th>\n",
       "      <th>lcNonPeriodic[27]_r</th>\n",
       "      <th>lcNonPeriodic[27]_i</th>\n",
       "      <th>lcNonPeriodic[27]_z</th>\n",
       "      <th>lcNonPeriodic[28]_u</th>\n",
       "      <th>lcNonPeriodic[28]_g</th>\n",
       "      <th>lcNonPeriodic[28]_r</th>\n",
       "      <th>lcNonPeriodic[28]_i</th>\n",
       "      <th>lcNonPeriodic[28]_z</th>\n",
       "      <th>lcN_r</th>\n",
       "    </tr>\n",
       "    <tr>\n",
       "      <th>objectId</th>\n",
       "      <th></th>\n",
       "      <th></th>\n",
       "      <th></th>\n",
       "      <th></th>\n",
       "      <th></th>\n",
       "      <th></th>\n",
       "      <th></th>\n",
       "      <th></th>\n",
       "      <th></th>\n",
       "      <th></th>\n",
       "      <th></th>\n",
       "      <th></th>\n",
       "      <th></th>\n",
       "      <th></th>\n",
       "      <th></th>\n",
       "      <th></th>\n",
       "      <th></th>\n",
       "      <th></th>\n",
       "      <th></th>\n",
       "      <th></th>\n",
       "      <th></th>\n",
       "    </tr>\n",
       "  </thead>\n",
       "  <tbody>\n",
       "    <tr>\n",
       "      <th>0271390</th>\n",
       "      <td>335.756000</td>\n",
       "      <td>-0.545745</td>\n",
       "      <td>14.123035</td>\n",
       "      <td>-6.600603</td>\n",
       "      <td>-0.013308</td>\n",
       "      <td>58226.877642</td>\n",
       "      <td>196208.333415</td>\n",
       "      <td>315141.101688</td>\n",
       "      <td>363472.073839</td>\n",
       "      <td>390425.925906</td>\n",
       "      <td>...</td>\n",
       "      <td>0.018121</td>\n",
       "      <td>0.008570</td>\n",
       "      <td>0.057029</td>\n",
       "      <td>0.042912</td>\n",
       "      <td>0.975324</td>\n",
       "      <td>5.251484</td>\n",
       "      <td>6.415285</td>\n",
       "      <td>0.447885</td>\n",
       "      <td>1.378181</td>\n",
       "      <td>57</td>\n",
       "    </tr>\n",
       "    <tr>\n",
       "      <th>0271391</th>\n",
       "      <td>0.877829</td>\n",
       "      <td>0.240960</td>\n",
       "      <td>9.591976</td>\n",
       "      <td>-3.451329</td>\n",
       "      <td>-0.012580</td>\n",
       "      <td>56604.337841</td>\n",
       "      <td>137549.637098</td>\n",
       "      <td>181615.390529</td>\n",
       "      <td>194857.644749</td>\n",
       "      <td>199960.147719</td>\n",
       "      <td>...</td>\n",
       "      <td>0.055463</td>\n",
       "      <td>0.165852</td>\n",
       "      <td>0.318518</td>\n",
       "      <td>0.027876</td>\n",
       "      <td>0.441824</td>\n",
       "      <td>2.040820</td>\n",
       "      <td>0.051330</td>\n",
       "      <td>0.018316</td>\n",
       "      <td>5.699177</td>\n",
       "      <td>81</td>\n",
       "    </tr>\n",
       "  </tbody>\n",
       "</table>\n",
       "<p>2 rows × 381 columns</p>\n",
       "</div>"
      ],
      "text/plain": [
       "                  ra       dec    psPm_ra  psPm_dec  psParallax      psFlux_u  \\\n",
       "objectId                                                                        \n",
       "0271390   335.756000 -0.545745  14.123035 -6.600603   -0.013308  58226.877642   \n",
       "0271391     0.877829  0.240960   9.591976 -3.451329   -0.012580  56604.337841   \n",
       "\n",
       "               psFlux_g       psFlux_r       psFlux_i       psFlux_z  ...  \\\n",
       "objectId                                                              ...   \n",
       "0271390   196208.333415  315141.101688  363472.073839  390425.925906  ...   \n",
       "0271391   137549.637098  181615.390529  194857.644749  199960.147719  ...   \n",
       "\n",
       "          lcNonPeriodic[27]_g  lcNonPeriodic[27]_r  lcNonPeriodic[27]_i  \\\n",
       "objectId                                                                  \n",
       "0271390              0.018121             0.008570             0.057029   \n",
       "0271391              0.055463             0.165852             0.318518   \n",
       "\n",
       "          lcNonPeriodic[27]_z  lcNonPeriodic[28]_u  lcNonPeriodic[28]_g  \\\n",
       "objectId                                                                  \n",
       "0271390              0.042912             0.975324             5.251484   \n",
       "0271391              0.027876             0.441824             2.040820   \n",
       "\n",
       "          lcNonPeriodic[28]_r  lcNonPeriodic[28]_i  lcNonPeriodic[28]_z  lcN_r  \n",
       "objectId                                                                        \n",
       "0271390              6.415285             0.447885             1.378181     57  \n",
       "0271391              0.051330             0.018316             5.699177     81  \n",
       "\n",
       "[2 rows x 381 columns]"
      ]
     },
     "execution_count": 4,
     "metadata": {},
     "output_type": "execute_result"
    }
   ],
   "source": [
    "# merge with object table\n",
    "td_objects = td_objects.join(lcN_r, how='left')\n",
    "td_objects.head(2)"
   ]
  },
  {
   "cell_type": "markdown",
   "metadata": {},
   "source": [
    "#### 1.3 Exploration"
   ]
  },
  {
   "cell_type": "markdown",
   "metadata": {},
   "source": [
    "##### 1.3.1 Distribution in magnitudes"
   ]
  },
  {
   "cell_type": "code",
   "execution_count": 6,
   "metadata": {},
   "outputs": [
    {
     "data": {
      "text/plain": [
       "Text(0.5, 0, 'Magnitudes')"
      ]
     },
     "execution_count": 6,
     "metadata": {},
     "output_type": "execute_result"
    },
    {
     "data": {
      "image/png": "[encoded data removed]",
      "text/plain": [
       "<Figure size 640x480 with 1 Axes>"
      ]
     },
     "metadata": {},
     "output_type": "display_data"
    }
   ],
   "source": [
    "select_cols = ['psMag_u', 'psMag_g', 'psMag_r', 'psMag_i', 'psMag_z', \n",
    "              'psMag_y']\n",
    "for col in select_cols:\n",
    "    _ = plt.hist(td_objects[col], histtype='step', label=col, \n",
    "                 bins='fd', density=True)\n",
    "plt.legend(loc=2)\n",
    "plt.xlim(14.5, 25)\n",
    "plt.title('Distribution of Magnitudes')\n",
    "plt.xlabel('Magnitudes')"
   ]
  },
  {
   "cell_type": "markdown",
   "metadata": {},
   "source": [
    "##### 1.3.2 Show one density map for each class of `Qso`, `Gal`, `Star`"
   ]
  },
  {
   "cell_type": "code",
   "execution_count": 7,
   "metadata": {},
   "outputs": [],
   "source": [
    "# groupby class\n",
    "td_gp = td_objects.groupby('class')\n",
    "\n",
    "# get the object_id for those having the largest number of epochs\n",
    "qso_idx = td_gp.get_group('Qso').sort_values('lcN_r').index[-1]\n",
    "gal_idx = td_gp.get_group('Gal').sort_values('lcN_r').index[-1]\n",
    "star_idx = td_gp.get_group('Star').sort_values('lcN_r').index[-1]\n",
    "\n",
    "# retrieve density maps for the above selected objects\n",
    "qso_dm = np.load(os.path.join(dm_dir, f'{qso_idx}.npy'))\n",
    "gal_dm = np.load(os.path.join(dm_dir, f'{gal_idx}.npy'))\n",
    "star_dm = np.load(os.path.join(dm_dir, f'{star_idx}.npy'))"
   ]
  },
  {
   "cell_type": "code",
   "execution_count": 8,
   "metadata": {},
   "outputs": [
    {
     "data": {
      "text/plain": [
       "Text(0, 0.5, '$\\\\Delta\\\\, M$ [arb. unit]')"
      ]
     },
     "execution_count": 8,
     "metadata": {},
     "output_type": "execute_result"
    },
    {
     "data": {
      "image/png": "[encoded data removed]",
      "text/plain": [
       "<Figure size 900x600 with 3 Axes>"
      ]
     },
     "metadata": {},
     "output_type": "display_data"
    }
   ],
   "source": [
    "# show one representative density map for each class\n",
    "fig, axes = plt.subplots(1,3, figsize=(9, 6), sharey=True)\n",
    "cls_names = ['Qso', 'Gal', 'Star']\n",
    "for i, dm in enumerate([qso_dm, gal_dm, star_dm]):\n",
    "    axes[i].imshow(dm, cmap=plt.cm.Greys, extent=[0, 3.5, -1.8, 1.8])\n",
    "    axes[i].text(0.5, 1.3, cls_names[i], c='blue')\n",
    "    axes[i].set_xlabel('log($\\Delta t$)')\n",
    "    \n",
    "axes[0].set_ylabel('$\\Delta\\, M$ [arb. unit]')"
   ]
  },
  {
   "cell_type": "markdown",
   "metadata": {},
   "source": [
    "### 2. Train/Test on a subset with less than 30 epochs in the r-band light curve"
   ]
  },
  {
   "cell_type": "markdown",
   "metadata": {},
   "source": [
    "#### 2.1 Import/Make dataset"
   ]
  },
  {
   "cell_type": "code",
   "execution_count": 8,
   "metadata": {},
   "outputs": [
    {
     "name": "stdout",
     "output_type": "stream",
     "text": [
      "number of objets for qso: 2018\n",
      "number of objets for gal: 23472\n",
      "number of objets for star: 3013\n"
     ]
    }
   ],
   "source": [
    "# get objects with < 30 epochs & make three classes\n",
    "low_cad_df = td_objects[(td_objects.lcN_r < 30)].copy()\n",
    "low_cad_qso = low_cad_df[(low_cad_df['class'] == 'Qso') | (low_cad_df['class'] == 'Agn')]\n",
    "low_cad_gal = low_cad_df[(low_cad_df['class'] == 'Gal')]\n",
    "low_cad_star = low_cad_df[(low_cad_df['class'] == 'Star')]\n",
    "\n",
    "print(f'number of objets for qso: {low_cad_qso.shape[0]}')\n",
    "print(f'number of objets for gal: {low_cad_gal.shape[0]}')\n",
    "print(f'number of objets for star: {low_cad_star.shape[0]}')\n",
    "\n",
    "# update object class and merge\n",
    "low_cad_df.loc[low_cad_qso.index, ['class']] = 0\n",
    "low_cad_df.loc[low_cad_gal.index, ['class']] = 1\n",
    "low_cad_df.loc[low_cad_star.index, ['class']] = 2"
   ]
  },
  {
   "cell_type": "code",
   "execution_count": 9,
   "metadata": {},
   "outputs": [],
   "source": [
    "# get labels, object_ids\n",
    "low_cad_labels = low_cad_df['class'].values\n",
    "low_cad_IDs = low_cad_df.index.values"
   ]
  },
  {
   "cell_type": "markdown",
   "metadata": {},
   "source": [
    "##### Read-in Density Maps"
   ]
  },
  {
   "cell_type": "code",
   "execution_count": 10,
   "metadata": {},
   "outputs": [
    {
     "name": "stdout",
     "output_type": "stream",
     "text": [
      "CPU times: user 15.1 s, sys: 3.74 s, total: 18.8 s\n",
      "Wall time: 30.7 s\n"
     ]
    },
    {
     "data": {
      "text/plain": [
       "(28503, 32, 32)"
      ]
     },
     "execution_count": 10,
     "metadata": {},
     "output_type": "execute_result"
    }
   ],
   "source": [
    "%%time\n",
    "# import density maps from disk\n",
    "low_cad_rt = []\n",
    "for idx in low_cad_df.index.values:\n",
    "    r = np.load(os.path.join(dm_dir, f'{idx}.npy'))\n",
    "    low_cad_rt.append(r)\n",
    "    \n",
    "low_cad_imgs = np.array(low_cad_rt)\n",
    "low_cad_imgs.shape"
   ]
  },
  {
   "cell_type": "markdown",
   "metadata": {},
   "source": [
    "##### Select features from the object table"
   ]
  },
  {
   "cell_type": "code",
   "execution_count": 11,
   "metadata": {},
   "outputs": [
    {
     "data": {
      "text/html": [
       "<div>\n",
       "<style scoped>\n",
       "    .dataframe tbody tr th:only-of-type {\n",
       "        vertical-align: middle;\n",
       "    }\n",
       "\n",
       "    .dataframe tbody tr th {\n",
       "        vertical-align: top;\n",
       "    }\n",
       "\n",
       "    .dataframe thead th {\n",
       "        text-align: right;\n",
       "    }\n",
       "</style>\n",
       "<table border=\"1\" class=\"dataframe\">\n",
       "  <thead>\n",
       "    <tr style=\"text-align: right;\">\n",
       "      <th></th>\n",
       "      <th>stdColor_0</th>\n",
       "      <th>stdColor_1</th>\n",
       "      <th>stdColor_2</th>\n",
       "      <th>stdColor_3</th>\n",
       "      <th>stdColor_4</th>\n",
       "      <th>lcNonPeriodic[9]_u</th>\n",
       "      <th>lcNonPeriodic[9]_g</th>\n",
       "      <th>lcNonPeriodic[9]_r</th>\n",
       "      <th>lcNonPeriodic[9]_i</th>\n",
       "      <th>lcNonPeriodic[9]_z</th>\n",
       "      <th>...</th>\n",
       "      <th>lcNonPeriodic[25]_g</th>\n",
       "      <th>lcNonPeriodic[25]_r</th>\n",
       "      <th>lcNonPeriodic[25]_i</th>\n",
       "      <th>lcNonPeriodic[25]_z</th>\n",
       "      <th>lcNonPeriodic[26]_u</th>\n",
       "      <th>lcNonPeriodic[26]_g</th>\n",
       "      <th>lcNonPeriodic[26]_r</th>\n",
       "      <th>lcNonPeriodic[26]_i</th>\n",
       "      <th>lcNonPeriodic[26]_z</th>\n",
       "      <th>pm</th>\n",
       "    </tr>\n",
       "    <tr>\n",
       "      <th>objectId</th>\n",
       "      <th></th>\n",
       "      <th></th>\n",
       "      <th></th>\n",
       "      <th></th>\n",
       "      <th></th>\n",
       "      <th></th>\n",
       "      <th></th>\n",
       "      <th></th>\n",
       "      <th></th>\n",
       "      <th></th>\n",
       "      <th></th>\n",
       "      <th></th>\n",
       "      <th></th>\n",
       "      <th></th>\n",
       "      <th></th>\n",
       "      <th></th>\n",
       "      <th></th>\n",
       "      <th></th>\n",
       "      <th></th>\n",
       "      <th></th>\n",
       "      <th></th>\n",
       "    </tr>\n",
       "  </thead>\n",
       "  <tbody>\n",
       "    <tr>\n",
       "      <th>0271426</th>\n",
       "      <td>3.099503</td>\n",
       "      <td>1.633201</td>\n",
       "      <td>1.581568</td>\n",
       "      <td>0.681385</td>\n",
       "      <td>0.150648</td>\n",
       "      <td>0.621094</td>\n",
       "      <td>0.208942</td>\n",
       "      <td>0.038883</td>\n",
       "      <td>0.019703</td>\n",
       "      <td>0.043512</td>\n",
       "      <td>...</td>\n",
       "      <td>0.277087</td>\n",
       "      <td>0.191878</td>\n",
       "      <td>0.231798</td>\n",
       "      <td>0.245026</td>\n",
       "      <td>2.558572</td>\n",
       "      <td>2.096913</td>\n",
       "      <td>3.336219</td>\n",
       "      <td>2.625942</td>\n",
       "      <td>2.270041</td>\n",
       "      <td>1.175717</td>\n",
       "    </tr>\n",
       "    <tr>\n",
       "      <th>0271448</th>\n",
       "      <td>3.169953</td>\n",
       "      <td>1.389682</td>\n",
       "      <td>1.197146</td>\n",
       "      <td>0.524731</td>\n",
       "      <td>0.118682</td>\n",
       "      <td>0.327715</td>\n",
       "      <td>0.049665</td>\n",
       "      <td>0.030037</td>\n",
       "      <td>0.005587</td>\n",
       "      <td>0.020151</td>\n",
       "      <td>...</td>\n",
       "      <td>0.194610</td>\n",
       "      <td>0.314757</td>\n",
       "      <td>0.199073</td>\n",
       "      <td>0.182002</td>\n",
       "      <td>2.310799</td>\n",
       "      <td>1.536574</td>\n",
       "      <td>1.573642</td>\n",
       "      <td>1.965158</td>\n",
       "      <td>2.083990</td>\n",
       "      <td>1.209478</td>\n",
       "    </tr>\n",
       "  </tbody>\n",
       "</table>\n",
       "<p>2 rows × 46 columns</p>\n",
       "</div>"
      ],
      "text/plain": [
       "          stdColor_0  stdColor_1  stdColor_2  stdColor_3  stdColor_4  \\\n",
       "objectId                                                               \n",
       "0271426     3.099503    1.633201    1.581568    0.681385    0.150648   \n",
       "0271448     3.169953    1.389682    1.197146    0.524731    0.118682   \n",
       "\n",
       "          lcNonPeriodic[9]_u  lcNonPeriodic[9]_g  lcNonPeriodic[9]_r  \\\n",
       "objectId                                                               \n",
       "0271426             0.621094            0.208942            0.038883   \n",
       "0271448             0.327715            0.049665            0.030037   \n",
       "\n",
       "          lcNonPeriodic[9]_i  lcNonPeriodic[9]_z  ...  lcNonPeriodic[25]_g  \\\n",
       "objectId                                          ...                        \n",
       "0271426             0.019703            0.043512  ...             0.277087   \n",
       "0271448             0.005587            0.020151  ...             0.194610   \n",
       "\n",
       "          lcNonPeriodic[25]_r  lcNonPeriodic[25]_i  lcNonPeriodic[25]_z  \\\n",
       "objectId                                                                  \n",
       "0271426              0.191878             0.231798             0.245026   \n",
       "0271448              0.314757             0.199073             0.182002   \n",
       "\n",
       "          lcNonPeriodic[26]_u  lcNonPeriodic[26]_g  lcNonPeriodic[26]_r  \\\n",
       "objectId                                                                  \n",
       "0271426              2.558572             2.096913             3.336219   \n",
       "0271448              2.310799             1.536574             1.573642   \n",
       "\n",
       "          lcNonPeriodic[26]_i  lcNonPeriodic[26]_z        pm  \n",
       "objectId                                                      \n",
       "0271426              2.625942             2.270041  1.175717  \n",
       "0271448              1.965158             2.083990  1.209478  \n",
       "\n",
       "[2 rows x 46 columns]"
      ]
     },
     "execution_count": 11,
     "metadata": {},
     "output_type": "execute_result"
    }
   ],
   "source": [
    "# gather column names\n",
    "cls_color_cols = [col for col in td_objects.columns \n",
    "                    if ('stdColor' in col) & ('Err' not in col)]\n",
    "\n",
    "# lcNonPeriodic columns\n",
    "lc_NP_index = [9, 13, 15, 19, 20, 22, 25, 26]\n",
    "cls_lc_cols = []\n",
    "for idx in lc_NP_index:\n",
    "    cls_lc_cols += [col for col in td_objects.columns \n",
    "                    if f'lcNonPeriodic[{idx}]' in col]\n",
    "\n",
    "feats_cols = cls_color_cols + cls_lc_cols\n",
    "low_cat_feats = low_cad_df[feats_cols].copy()\n",
    "\n",
    "# add proper motion\n",
    "pm = np.log10(np.sqrt(low_cad_df['psPm_ra']**2 + low_cad_df['psPm_dec']**2))\n",
    "pm.name = 'pm'\n",
    "\n",
    "low_cat_feats = low_cat_feats.join(pm, how='left')\n",
    "\n",
    "# fill nan\n",
    "low_cat_feats = low_cat_feats.fillna(0)\n",
    "low_cat_feats.head(2)"
   ]
  },
  {
   "cell_type": "markdown",
   "metadata": {},
   "source": [
    "#### 2.2 Create Model -> Train/Test"
   ]
  },
  {
   "cell_type": "markdown",
   "metadata": {},
   "source": [
    "##### Train/Test split"
   ]
  },
  {
   "cell_type": "code",
   "execution_count": 12,
   "metadata": {},
   "outputs": [],
   "source": [
    "# train/test split\n",
    "low_cad_labels = low_cad_labels.astype(str).astype(int) # change dtype from object -> int\n",
    "(train_images, test_images, train_labels, test_labels, train_ids, \n",
    " test_ids) = train_test_split(low_cad_imgs, low_cad_labels, low_cad_IDs, \n",
    "                              test_size=0.3, random_state=42)\n",
    "\n",
    "# Normalize pixel values to be between 0 and 1\n",
    "train_images, test_images = train_images / 255.0, test_images / 255.0\n",
    "\n",
    "# add channel dim\n",
    "train_images = train_images[:, :, :, np.newaxis]\n",
    "test_images = test_images[:, :, :, np.newaxis]\n",
    "\n",
    "# train/test split for other features\n",
    "train_feats = low_cat_feats.loc[train_ids].values\n",
    "test_feats = low_cat_feats.loc[test_ids].values"
   ]
  },
  {
   "cell_type": "markdown",
   "metadata": {},
   "source": [
    "##### Creat TF DNN Model"
   ]
  },
  {
   "cell_type": "code",
   "execution_count": 66,
   "metadata": {},
   "outputs": [],
   "source": [
    "# CNN layers\n",
    "dm_input = tf.keras.Input(shape=(32, 32, 1), name='dm_input')\n",
    "cnn_x = layers.Conv2D(32, (3, 3), activation='relu', input_shape=(32, 32, 1), \n",
    "                  dilation_rate=(2, 2))(dm_input)\n",
    "cnn_x = layers.AveragePooling2D((2, 2))(cnn_x)\n",
    "cnn_x = layers.Conv2D(64, (3, 3), activation='relu')(cnn_x)\n",
    "cnn_x = layers.MaxPooling2D((2, 2))(cnn_x)\n",
    "cnn_x = layers.Conv2D(64, (3, 3), activation='relu')(cnn_x)\n",
    "\n",
    "# CNN Dense layers\n",
    "cnn_x = layers.Flatten()(cnn_x)\n",
    "cnn_x = layers.Dense(64, activation='relu')(cnn_x)\n",
    "\n",
    "# tabular data dense layers\n",
    "tb_input = tf.keras.Input(shape=(train_feats.shape[1],), name='tb_input')\n",
    "\n",
    "# combine cnn features with tb features\n",
    "x = layers.concatenate([cnn_x, tb_input])\n",
    "\n",
    "# final dense layer\n",
    "x = layers.Dense(64, activation='relu', use_bias=True)(x)\n",
    "output = layers.Dense(3)(x)\n",
    "\n",
    "# create the final model\n",
    "full_model = tf.keras.Model(\n",
    "    inputs = [dm_input, tb_input],\n",
    "    outputs = output,\n",
    "    name='full'\n",
    ")"
   ]
  },
  {
   "cell_type": "code",
   "execution_count": 68,
   "metadata": {},
   "outputs": [],
   "source": [
    "# compile\n",
    "full_model.compile(optimizer='adam',\n",
    "                 loss=tf.keras.losses.SparseCategoricalCrossentropy(from_logits=True),\n",
    "                 metrics=['accuracy'])"
   ]
  },
  {
   "cell_type": "markdown",
   "metadata": {},
   "source": [
    "##### Train -> Plot Progress"
   ]
  },
  {
   "cell_type": "code",
   "execution_count": 69,
   "metadata": {},
   "outputs": [
    {
     "name": "stdout",
     "output_type": "stream",
     "text": [
      "Epoch 1/15\n",
      "499/499 [==============================] - 42s 85ms/step - loss: 0.2496 - accuracy: 0.9294 - val_loss: 0.1774 - val_accuracy: 0.9521\n",
      "Epoch 2/15\n",
      "499/499 [==============================] - 2s 4ms/step - loss: 0.1542 - accuracy: 0.9575 - val_loss: 0.1572 - val_accuracy: 0.9557\n",
      "Epoch 3/15\n",
      "499/499 [==============================] - 2s 4ms/step - loss: 0.1330 - accuracy: 0.9619 - val_loss: 0.1512 - val_accuracy: 0.9577\n",
      "Epoch 4/15\n",
      "499/499 [==============================] - 2s 4ms/step - loss: 0.1270 - accuracy: 0.9652 - val_loss: 0.1462 - val_accuracy: 0.9604\n",
      "Epoch 5/15\n",
      "499/499 [==============================] - 2s 3ms/step - loss: 0.1201 - accuracy: 0.9668 - val_loss: 0.1399 - val_accuracy: 0.9622\n",
      "Epoch 6/15\n",
      "499/499 [==============================] - 1s 3ms/step - loss: 0.1214 - accuracy: 0.9659 - val_loss: 0.1309 - val_accuracy: 0.9644\n",
      "Epoch 7/15\n",
      "499/499 [==============================] - 1s 3ms/step - loss: 0.1108 - accuracy: 0.9685 - val_loss: 0.1338 - val_accuracy: 0.9652\n",
      "Epoch 8/15\n",
      "499/499 [==============================] - 2s 3ms/step - loss: 0.1108 - accuracy: 0.9690 - val_loss: 0.1252 - val_accuracy: 0.9674\n",
      "Epoch 9/15\n",
      "499/499 [==============================] - 1s 3ms/step - loss: 0.0986 - accuracy: 0.9709 - val_loss: 0.1337 - val_accuracy: 0.9637\n",
      "Epoch 10/15\n",
      "499/499 [==============================] - 2s 3ms/step - loss: 0.1014 - accuracy: 0.9710 - val_loss: 0.1195 - val_accuracy: 0.9667\n",
      "Epoch 11/15\n",
      "499/499 [==============================] - 2s 4ms/step - loss: 0.0946 - accuracy: 0.9719 - val_loss: 0.1290 - val_accuracy: 0.9664\n",
      "Epoch 12/15\n",
      "499/499 [==============================] - 2s 4ms/step - loss: 0.0972 - accuracy: 0.9726 - val_loss: 0.1181 - val_accuracy: 0.9669\n",
      "Epoch 13/15\n",
      "499/499 [==============================] - 2s 3ms/step - loss: 0.0973 - accuracy: 0.9731 - val_loss: 0.1244 - val_accuracy: 0.9659\n",
      "Epoch 14/15\n",
      "499/499 [==============================] - 2s 3ms/step - loss: 0.0882 - accuracy: 0.9746 - val_loss: 0.1155 - val_accuracy: 0.9674\n",
      "Epoch 15/15\n",
      "499/499 [==============================] - 2s 3ms/step - loss: 0.0967 - accuracy: 0.9731 - val_loss: 0.1158 - val_accuracy: 0.9672\n"
     ]
    }
   ],
   "source": [
    "# train\n",
    "history = full_model.fit(\n",
    "    {'dm_input':train_images, 'tb_input':train_feats}, \n",
    "    train_labels, \n",
    "    epochs=15, validation_split=0.2, workers=16\n",
    ")"
   ]
  },
  {
   "cell_type": "code",
   "execution_count": 71,
   "metadata": {},
   "outputs": [
    {
     "data": {
      "text/plain": [
       "<matplotlib.legend.Legend at 0x7f1f13e73700>"
      ]
     },
     "execution_count": 71,
     "metadata": {},
     "output_type": "execute_result"
    },
    {
     "data": {
      "image/png": "[encoded data removed]",
      "text/plain": [
       "<Figure size 640x480 with 1 Axes>"
      ]
     },
     "metadata": {},
     "output_type": "display_data"
    }
   ],
   "source": [
    "plt.plot(history.history['accuracy'], label='accuracy')\n",
    "plt.plot(history.history['val_accuracy'], label = 'val_accuracy')\n",
    "plt.xlabel('Epoch')\n",
    "plt.ylabel('Accuracy')\n",
    "plt.ylim([0.85, 1])\n",
    "plt.legend(loc='lower right')"
   ]
  },
  {
   "cell_type": "markdown",
   "metadata": {},
   "source": [
    "#####  Test on Test set -> Plot Confusion Matrix"
   ]
  },
  {
   "cell_type": "code",
   "execution_count": 72,
   "metadata": {},
   "outputs": [
    {
     "name": "stdout",
     "output_type": "stream",
     "text": [
      "268/268 - 13s - loss: 0.0977 - accuracy: 0.9724\n"
     ]
    }
   ],
   "source": [
    "# print test accuracy\n",
    "test_loss, test_acc = full_model.evaluate(\n",
    "    {'dm_input':test_images, 'tb_input':test_feats}, test_labels, verbose=2\n",
    ")"
   ]
  },
  {
   "cell_type": "code",
   "execution_count": 73,
   "metadata": {},
   "outputs": [
    {
     "data": {
      "text/plain": [
       "<sklearn.metrics._plot.confusion_matrix.ConfusionMatrixDisplay at 0x7f1e80050a00>"
      ]
     },
     "execution_count": 73,
     "metadata": {},
     "output_type": "execute_result"
    },
    {
     "data": {
      "image/png": "[encoded data removed]",
      "text/plain": [
       "<Figure size 640x480 with 2 Axes>"
      ]
     },
     "metadata": {},
     "output_type": "display_data"
    }
   ],
   "source": [
    "## ------------Confusion Matrix------------\n",
    "# pred\n",
    "test_pred = full_model.predict({'dm_input':test_images, 'tb_input':test_feats})\n",
    "test_pred = np.argmax(test_pred, axis=1)\n",
    "\n",
    "# make cf\n",
    "cf = confusion_matrix(test_labels, test_pred)\n",
    "ConfusionMatrixDisplay(cf, display_labels=['Qso/Agn', 'Gal', 'Star']).plot()"
   ]
  },
  {
   "cell_type": "markdown",
   "metadata": {},
   "source": [
    "### 3 Train/Test on a random subset (20\\% of the entire dataset)"
   ]
  },
  {
   "cell_type": "markdown",
   "metadata": {},
   "source": [
    "#### 3.1 Import/Make dataset"
   ]
  },
  {
   "cell_type": "code",
   "execution_count": 24,
   "metadata": {},
   "outputs": [
    {
     "name": "stdout",
     "output_type": "stream",
     "text": [
      "number of objets for qso: 6380\n",
      "number of objets for gal: 10487\n",
      "number of objets for star: 13521\n"
     ]
    }
   ],
   "source": [
    "# select every 5\n",
    "h_cad_df = td_objects.iloc[::5].copy() \n",
    "h_cad_qso = h_cad_df[(h_cad_df['class'] == 'Qso') | (h_cad_df['class'] == 'Agn')]\n",
    "h_cad_gal = h_cad_df[(h_cad_df['class'] == 'Gal')]\n",
    "h_cad_star = h_cad_df[(h_cad_df['class'] == 'Star')]\n",
    "\n",
    "print(f'number of objets for qso: {h_cad_qso.shape[0]}')\n",
    "print(f'number of objets for gal: {h_cad_gal.shape[0]}')\n",
    "print(f'number of objets for star: {h_cad_star.shape[0]}')\n",
    "\n",
    "# update object class and merge\n",
    "h_cad_df.loc[h_cad_qso.index, ['class']] = 0\n",
    "h_cad_df.loc[h_cad_gal.index, ['class']] = 1\n",
    "h_cad_df.loc[h_cad_star.index, ['class']] = 2"
   ]
  },
  {
   "cell_type": "code",
   "execution_count": 25,
   "metadata": {},
   "outputs": [],
   "source": [
    "# take out labels, IDs\n",
    "h_cad_labels = h_cad_df['class'].values\n",
    "h_cad_IDs = h_cad_df.index.values"
   ]
  },
  {
   "cell_type": "markdown",
   "metadata": {},
   "source": [
    "##### Read-in Density Maps"
   ]
  },
  {
   "cell_type": "code",
   "execution_count": 26,
   "metadata": {},
   "outputs": [
    {
     "name": "stdout",
     "output_type": "stream",
     "text": [
      "CPU times: user 15.9 s, sys: 4.41 s, total: 20.3 s\n",
      "Wall time: 32.4 s\n"
     ]
    },
    {
     "data": {
      "text/plain": [
       "(30388, 32, 32)"
      ]
     },
     "execution_count": 26,
     "metadata": {},
     "output_type": "execute_result"
    }
   ],
   "source": [
    "%%time\n",
    "h_cad_rt = []\n",
    "for idx in h_cad_df.index.values:\n",
    "    r = np.load(os.path.join(dm_dir, f'{idx}.npy'))\n",
    "    h_cad_rt.append(r)\n",
    "    \n",
    "h_cad_imgs = np.array(h_cad_rt)\n",
    "h_cad_imgs.shape"
   ]
  },
  {
   "cell_type": "markdown",
   "metadata": {},
   "source": [
    "##### Select tabular features from the object table"
   ]
  },
  {
   "cell_type": "code",
   "execution_count": 27,
   "metadata": {},
   "outputs": [
    {
     "data": {
      "text/html": [
       "<div>\n",
       "<style scoped>\n",
       "    .dataframe tbody tr th:only-of-type {\n",
       "        vertical-align: middle;\n",
       "    }\n",
       "\n",
       "    .dataframe tbody tr th {\n",
       "        vertical-align: top;\n",
       "    }\n",
       "\n",
       "    .dataframe thead th {\n",
       "        text-align: right;\n",
       "    }\n",
       "</style>\n",
       "<table border=\"1\" class=\"dataframe\">\n",
       "  <thead>\n",
       "    <tr style=\"text-align: right;\">\n",
       "      <th></th>\n",
       "      <th>stdColor_0</th>\n",
       "      <th>stdColor_1</th>\n",
       "      <th>stdColor_2</th>\n",
       "      <th>stdColor_3</th>\n",
       "      <th>stdColor_4</th>\n",
       "      <th>lcNonPeriodic[9]_u</th>\n",
       "      <th>lcNonPeriodic[9]_g</th>\n",
       "      <th>lcNonPeriodic[9]_r</th>\n",
       "      <th>lcNonPeriodic[9]_i</th>\n",
       "      <th>lcNonPeriodic[9]_z</th>\n",
       "      <th>...</th>\n",
       "      <th>lcNonPeriodic[25]_g</th>\n",
       "      <th>lcNonPeriodic[25]_r</th>\n",
       "      <th>lcNonPeriodic[25]_i</th>\n",
       "      <th>lcNonPeriodic[25]_z</th>\n",
       "      <th>lcNonPeriodic[26]_u</th>\n",
       "      <th>lcNonPeriodic[26]_g</th>\n",
       "      <th>lcNonPeriodic[26]_r</th>\n",
       "      <th>lcNonPeriodic[26]_i</th>\n",
       "      <th>lcNonPeriodic[26]_z</th>\n",
       "      <th>pm</th>\n",
       "    </tr>\n",
       "    <tr>\n",
       "      <th>objectId</th>\n",
       "      <th></th>\n",
       "      <th></th>\n",
       "      <th></th>\n",
       "      <th></th>\n",
       "      <th></th>\n",
       "      <th></th>\n",
       "      <th></th>\n",
       "      <th></th>\n",
       "      <th></th>\n",
       "      <th></th>\n",
       "      <th></th>\n",
       "      <th></th>\n",
       "      <th></th>\n",
       "      <th></th>\n",
       "      <th></th>\n",
       "      <th></th>\n",
       "      <th></th>\n",
       "      <th></th>\n",
       "      <th></th>\n",
       "      <th></th>\n",
       "      <th></th>\n",
       "    </tr>\n",
       "  </thead>\n",
       "  <tbody>\n",
       "    <tr>\n",
       "      <th>0271390</th>\n",
       "      <td>1.318985</td>\n",
       "      <td>0.514469</td>\n",
       "      <td>0.154915</td>\n",
       "      <td>0.077669</td>\n",
       "      <td>-0.01227</td>\n",
       "      <td>0.049787</td>\n",
       "      <td>0.015057</td>\n",
       "      <td>0.011363</td>\n",
       "      <td>0.013417</td>\n",
       "      <td>0.018822</td>\n",
       "      <td>...</td>\n",
       "      <td>0.188643</td>\n",
       "      <td>0.171811</td>\n",
       "      <td>0.141249</td>\n",
       "      <td>0.147907</td>\n",
       "      <td>1.258739</td>\n",
       "      <td>1.690556</td>\n",
       "      <td>1.657900</td>\n",
       "      <td>2.058601</td>\n",
       "      <td>2.193501</td>\n",
       "      <td>1.192828</td>\n",
       "    </tr>\n",
       "    <tr>\n",
       "      <th>0271397</th>\n",
       "      <td>2.523612</td>\n",
       "      <td>1.396339</td>\n",
       "      <td>1.012135</td>\n",
       "      <td>0.453517</td>\n",
       "      <td>0.10102</td>\n",
       "      <td>0.382448</td>\n",
       "      <td>0.033416</td>\n",
       "      <td>0.011757</td>\n",
       "      <td>0.018448</td>\n",
       "      <td>0.020207</td>\n",
       "      <td>...</td>\n",
       "      <td>0.189720</td>\n",
       "      <td>0.158178</td>\n",
       "      <td>0.179047</td>\n",
       "      <td>0.231473</td>\n",
       "      <td>2.170511</td>\n",
       "      <td>1.989821</td>\n",
       "      <td>2.172663</td>\n",
       "      <td>1.625595</td>\n",
       "      <td>1.857419</td>\n",
       "      <td>1.066813</td>\n",
       "    </tr>\n",
       "  </tbody>\n",
       "</table>\n",
       "<p>2 rows × 46 columns</p>\n",
       "</div>"
      ],
      "text/plain": [
       "          stdColor_0  stdColor_1  stdColor_2  stdColor_3  stdColor_4  \\\n",
       "objectId                                                               \n",
       "0271390     1.318985    0.514469    0.154915    0.077669    -0.01227   \n",
       "0271397     2.523612    1.396339    1.012135    0.453517     0.10102   \n",
       "\n",
       "          lcNonPeriodic[9]_u  lcNonPeriodic[9]_g  lcNonPeriodic[9]_r  \\\n",
       "objectId                                                               \n",
       "0271390             0.049787            0.015057            0.011363   \n",
       "0271397             0.382448            0.033416            0.011757   \n",
       "\n",
       "          lcNonPeriodic[9]_i  lcNonPeriodic[9]_z  ...  lcNonPeriodic[25]_g  \\\n",
       "objectId                                          ...                        \n",
       "0271390             0.013417            0.018822  ...             0.188643   \n",
       "0271397             0.018448            0.020207  ...             0.189720   \n",
       "\n",
       "          lcNonPeriodic[25]_r  lcNonPeriodic[25]_i  lcNonPeriodic[25]_z  \\\n",
       "objectId                                                                  \n",
       "0271390              0.171811             0.141249             0.147907   \n",
       "0271397              0.158178             0.179047             0.231473   \n",
       "\n",
       "          lcNonPeriodic[26]_u  lcNonPeriodic[26]_g  lcNonPeriodic[26]_r  \\\n",
       "objectId                                                                  \n",
       "0271390              1.258739             1.690556             1.657900   \n",
       "0271397              2.170511             1.989821             2.172663   \n",
       "\n",
       "          lcNonPeriodic[26]_i  lcNonPeriodic[26]_z        pm  \n",
       "objectId                                                      \n",
       "0271390              2.058601             2.193501  1.192828  \n",
       "0271397              1.625595             1.857419  1.066813  \n",
       "\n",
       "[2 rows x 46 columns]"
      ]
     },
     "execution_count": 27,
     "metadata": {},
     "output_type": "execute_result"
    }
   ],
   "source": [
    "# gather column names\n",
    "cls_color_cols = [col for col in td_objects.columns \n",
    "                    if ('stdColor' in col) & ('Err' not in col)]\n",
    "\n",
    "# lc Non Periodic columns\n",
    "lc_NP_index = [9, 13, 15, 19, 20, 22, 25, 26]\n",
    "cls_lc_cols = []\n",
    "for idx in lc_NP_index:\n",
    "    cls_lc_cols += [col for col in td_objects.columns \n",
    "                    if f'lcNonPeriodic[{idx}]' in col]\n",
    "\n",
    "feats_cols = cls_color_cols + cls_lc_cols\n",
    "h_cad_feats = h_cad_df[feats_cols].copy()\n",
    "\n",
    "# add proper motion\n",
    "pm = np.log10(np.sqrt(h_cad_df['psPm_ra']**2 + h_cad_df['psPm_dec']**2))\n",
    "pm.name = 'pm'\n",
    "\n",
    "h_cad_feats = h_cad_feats.join(pm, how='left')\n",
    "\n",
    "# fill nan\n",
    "h_cad_feats = h_cad_feats.fillna(0)\n",
    "h_cad_feats.head(2)"
   ]
  },
  {
   "cell_type": "markdown",
   "metadata": {},
   "source": [
    "#### 3.2 Create Model -> Train/Test"
   ]
  },
  {
   "cell_type": "markdown",
   "metadata": {},
   "source": [
    "##### Train/Test split"
   ]
  },
  {
   "cell_type": "code",
   "execution_count": 28,
   "metadata": {},
   "outputs": [],
   "source": [
    "# train/test split\n",
    "h_cad_labels = h_cad_labels.astype(int) # change dtype from object -> int\n",
    "(train_images, test_images, train_labels, test_labels, train_ids, \n",
    " test_ids) = train_test_split(h_cad_imgs, h_cad_labels, h_cad_IDs, \n",
    "                              test_size=0.3, random_state=42)\n",
    "\n",
    "# Normalize pixel values to be between 0 and 1\n",
    "train_images, test_images = train_images / 255.0, test_images / 255.0\n",
    "\n",
    "# add channel dim\n",
    "train_images = train_images[:, :, :, np.newaxis]\n",
    "test_images = test_images[:, :, :, np.newaxis]\n",
    "\n",
    "# train/test split for other features\n",
    "train_feats = h_cad_feats.loc[train_ids].values\n",
    "test_feats = h_cad_feats.loc[test_ids].values"
   ]
  },
  {
   "cell_type": "markdown",
   "metadata": {},
   "source": [
    "##### Creat TF DNN Model"
   ]
  },
  {
   "cell_type": "code",
   "execution_count": 42,
   "metadata": {},
   "outputs": [],
   "source": [
    "# CNN layers\n",
    "dm_input = tf.keras.Input(shape=(32, 32, 1), name='dm_input')\n",
    "cnn_x = layers.Conv2D(32, (3, 3), activation='relu', input_shape=(32, 32, 1), \n",
    "                  dilation_rate=(2, 2))(dm_input)\n",
    "cnn_x = layers.AveragePooling2D((2, 2))(cnn_x)\n",
    "cnn_x = layers.Conv2D(64, (3, 3), activation='relu')(cnn_x)\n",
    "cnn_x = layers.MaxPooling2D((2, 2))(cnn_x)\n",
    "cnn_x = layers.Conv2D(64, (3, 3), activation='relu')(cnn_x)\n",
    "\n",
    "# CNN Dense layers\n",
    "cnn_x = layers.Flatten()(cnn_x)\n",
    "cnn_x = layers.Dense(64, activation='relu')(cnn_x)\n",
    "\n",
    "# tabular dense layers\n",
    "tb_input = tf.keras.Input(shape=(train_feats.shape[1],), name='tb_input')\n",
    "\n",
    "# combine cnn features with tb features\n",
    "x = layers.concatenate([cnn_x, tb_input])\n",
    "\n",
    "# final dense layer\n",
    "x = layers.Dense(64, activation='relu', use_bias=True)(x)\n",
    "output = layers.Dense(3)(x)\n",
    "\n",
    "# create model\n",
    "full_model = tf.keras.Model(\n",
    "    inputs = [dm_input, tb_input],\n",
    "    outputs = output,\n",
    "    name='full'\n",
    ")"
   ]
  },
  {
   "cell_type": "code",
   "execution_count": 43,
   "metadata": {},
   "outputs": [],
   "source": [
    "# compile\n",
    "full_model.compile(optimizer='adam',\n",
    "                 loss=tf.keras.losses.SparseCategoricalCrossentropy(from_logits=True),\n",
    "                 metrics=['accuracy'])"
   ]
  },
  {
   "cell_type": "markdown",
   "metadata": {},
   "source": [
    "##### Train -> Plot Progress"
   ]
  },
  {
   "cell_type": "code",
   "execution_count": 44,
   "metadata": {},
   "outputs": [
    {
     "name": "stdout",
     "output_type": "stream",
     "text": [
      "Epoch 1/15\n",
      "532/532 [==============================] - 54s 101ms/step - loss: 0.2987 - accuracy: 0.9163 - val_loss: 0.1582 - val_accuracy: 0.9438\n",
      "Epoch 2/15\n",
      "532/532 [==============================] - 2s 4ms/step - loss: 0.1539 - accuracy: 0.9581 - val_loss: 0.1646 - val_accuracy: 0.9598\n",
      "Epoch 3/15\n",
      "532/532 [==============================] - 1s 3ms/step - loss: 0.1496 - accuracy: 0.9619 - val_loss: 0.1295 - val_accuracy: 0.9636\n",
      "Epoch 4/15\n",
      "532/532 [==============================] - 2s 3ms/step - loss: 0.1356 - accuracy: 0.9643 - val_loss: 0.1065 - val_accuracy: 0.9706\n",
      "Epoch 5/15\n",
      "532/532 [==============================] - 2s 3ms/step - loss: 0.1406 - accuracy: 0.9646 - val_loss: 0.1416 - val_accuracy: 0.9603\n",
      "Epoch 6/15\n",
      "532/532 [==============================] - 1s 3ms/step - loss: 0.1324 - accuracy: 0.9678 - val_loss: 0.1039 - val_accuracy: 0.9704\n",
      "Epoch 7/15\n",
      "532/532 [==============================] - 1s 3ms/step - loss: 0.1047 - accuracy: 0.9698 - val_loss: 0.1067 - val_accuracy: 0.9709\n",
      "Epoch 8/15\n",
      "532/532 [==============================] - 2s 3ms/step - loss: 0.1210 - accuracy: 0.9697 - val_loss: 0.1224 - val_accuracy: 0.9680\n",
      "Epoch 9/15\n",
      "532/532 [==============================] - 2s 3ms/step - loss: 0.1040 - accuracy: 0.9710 - val_loss: 0.0992 - val_accuracy: 0.9730\n",
      "Epoch 10/15\n",
      "532/532 [==============================] - 2s 3ms/step - loss: 0.0919 - accuracy: 0.9737 - val_loss: 0.0928 - val_accuracy: 0.9730\n",
      "Epoch 11/15\n",
      "532/532 [==============================] - 2s 3ms/step - loss: 0.0936 - accuracy: 0.9746 - val_loss: 0.1092 - val_accuracy: 0.9690\n",
      "Epoch 12/15\n",
      "532/532 [==============================] - 2s 3ms/step - loss: 0.0971 - accuracy: 0.9744 - val_loss: 0.0992 - val_accuracy: 0.9711\n",
      "Epoch 13/15\n",
      "532/532 [==============================] - 2s 3ms/step - loss: 0.1070 - accuracy: 0.9731 - val_loss: 0.0989 - val_accuracy: 0.9725\n",
      "Epoch 14/15\n",
      "532/532 [==============================] - 2s 3ms/step - loss: 0.0849 - accuracy: 0.9760 - val_loss: 0.0928 - val_accuracy: 0.9746\n",
      "Epoch 15/15\n",
      "532/532 [==============================] - 2s 3ms/step - loss: 0.0840 - accuracy: 0.9756 - val_loss: 0.1074 - val_accuracy: 0.9730\n"
     ]
    }
   ],
   "source": [
    "# train\n",
    "history = full_model.fit(\n",
    "    {'dm_input':train_images, 'tb_input':train_feats}, \n",
    "    train_labels, \n",
    "    epochs=15, validation_split=0.2, workers=16\n",
    ")"
   ]
  },
  {
   "cell_type": "code",
   "execution_count": 45,
   "metadata": {},
   "outputs": [
    {
     "data": {
      "text/plain": [
       "<matplotlib.legend.Legend at 0x7f11ebcf94f0>"
      ]
     },
     "execution_count": 45,
     "metadata": {},
     "output_type": "execute_result"
    },
    {
     "data": {
      "image/png": "[encoded data removed]",
      "text/plain": [
       "<Figure size 640x480 with 1 Axes>"
      ]
     },
     "metadata": {},
     "output_type": "display_data"
    }
   ],
   "source": [
    "plt.plot(history.history['accuracy'], label='accuracy')\n",
    "plt.plot(history.history['val_accuracy'], label = 'val_accuracy')\n",
    "plt.xlabel('Epoch')\n",
    "plt.ylabel('Accuracy')\n",
    "plt.ylim([0.85, 1])\n",
    "plt.legend(loc='lower right')"
   ]
  },
  {
   "cell_type": "markdown",
   "metadata": {},
   "source": [
    "#####  Test on Test set -> Plot Confusion Matrix"
   ]
  },
  {
   "cell_type": "code",
   "execution_count": 46,
   "metadata": {},
   "outputs": [
    {
     "name": "stdout",
     "output_type": "stream",
     "text": [
      "285/285 - 1s - loss: 0.1197 - accuracy: 0.9739\n"
     ]
    }
   ],
   "source": [
    "# print test accuracy\n",
    "test_loss, test_acc = full_model.evaluate(\n",
    "    {'dm_input':test_images, 'tb_input':test_feats}, test_labels, verbose=2\n",
    ")"
   ]
  },
  {
   "cell_type": "code",
   "execution_count": 47,
   "metadata": {},
   "outputs": [
    {
     "data": {
      "text/plain": [
       "<sklearn.metrics._plot.confusion_matrix.ConfusionMatrixDisplay at 0x7f11eba34e20>"
      ]
     },
     "execution_count": 47,
     "metadata": {},
     "output_type": "execute_result"
    },
    {
     "data": {
      "image/png": "[encoded data removed]",
      "text/plain": [
       "<Figure size 640x480 with 2 Axes>"
      ]
     },
     "metadata": {},
     "output_type": "display_data"
    }
   ],
   "source": [
    "## ------------Confusion Matrix------------\n",
    "# pred\n",
    "test_pred = full_model.predict({'dm_input':test_images, 'tb_input':test_feats})\n",
    "test_pred = np.argmax(test_pred, axis=1)\n",
    "\n",
    "# make cf\n",
    "cf = confusion_matrix(test_labels, test_pred)\n",
    "ConfusionMatrixDisplay(cf, display_labels=['Qso/Agn', 'Gal', 'Star']).plot()"
   ]
  },
  {
   "cell_type": "markdown",
   "metadata": {},
   "source": [
    "### => WY: Test on blinded dataset <=\n",
    "### 4. Load Pre-trained and test on blinded dataset\n",
    "Below are the steps that need to be taken:\n",
    "1. Remove objects that do not satisfy the requirement as stated as the beginning (remove NaN)\n",
    "2. Import density maps and make features\n",
    "3. Load pre-trained model as provided\n",
    "4. Test on the blinded dataset"
   ]
  },
  {
   "cell_type": "markdown",
   "metadata": {},
   "source": [
    "#### 4.1 Read the blinded dataset"
   ]
  },
  {
   "cell_type": "code",
   "execution_count": 5,
   "metadata": {},
   "outputs": [
    {
     "name": "stdout",
     "output_type": "stream",
     "text": [
      "Total number of useable objects: 17453\n",
      "Counts for each class: \n"
     ]
    },
    {
     "data": {
      "text/plain": [
       "Gal     9893\n",
       "Qso     5934\n",
       "Star    1590\n",
       "Agn       36\n",
       "Name: class, dtype: int64"
      ]
     },
     "execution_count": 5,
     "metadata": {},
     "output_type": "execute_result"
    }
   ],
   "source": [
    "# read blinded dataset\n",
    "blinded_df_og = pd.read_parquet(os.path.join(data_dir, 'ObjectTable_Blinded.parquet'))\n",
    "\n",
    "## -----Clean Data-----\n",
    "# select the objects that have time domain data\n",
    "lc_cols = [col for col in blinded_df_og.columns if 'Periodic' in col]\n",
    "blinded_df = blinded_df_og.dropna(subset=lc_cols, how='all').copy()\n",
    "\n",
    "# require having proper motion and color\n",
    "color_cols = [col for col in blinded_df.columns \n",
    "              if ('stdColor' in col) & ('Err' not in col) & ('4' not in col)]\n",
    "blinded_df = blinded_df.dropna(subset=['psPm_ra', 'psPm_dec']+color_cols, \n",
    "                               how='any')\n",
    "\n",
    "# require only those having a label in ['Qso', 'Agn', 'Gal', 'Star']\n",
    "blinded_df = blinded_df[blinded_df['class'].isin(\n",
    "    ['Qso', 'Agn', 'Gal', 'Star'])].copy()\n",
    "\n",
    "blinded_df = blinded_df.join(lcN_r, how='left')\n",
    "\n",
    "print(f'Total number of useable objects: {blinded_df.shape[0]}')\n",
    "print('Counts for each class: ')\n",
    "blinded_df['class'].value_counts()"
   ]
  },
  {
   "cell_type": "markdown",
   "metadata": {},
   "source": [
    "#### 4.2 Import density maps and make feature array"
   ]
  },
  {
   "cell_type": "code",
   "execution_count": 7,
   "metadata": {},
   "outputs": [
    {
     "data": {
      "text/plain": [
       "(17453, 32, 32)"
      ]
     },
     "execution_count": 7,
     "metadata": {},
     "output_type": "execute_result"
    }
   ],
   "source": [
    "# import density maps from disk\n",
    "blinded_rt = []\n",
    "for idx in blinded_df.index.values:\n",
    "    r = np.load(os.path.join(dm_dir, f'{idx}.npy'))\n",
    "    blinded_rt.append(r)\n",
    "    \n",
    "blinded_imgs = np.array(blinded_rt)\n",
    "blinded_imgs.shape"
   ]
  },
  {
   "cell_type": "markdown",
   "metadata": {},
   "source": [
    "##### Other features"
   ]
  },
  {
   "cell_type": "code",
   "execution_count": 8,
   "metadata": {},
   "outputs": [
    {
     "data": {
      "text/html": [
       "<div>\n",
       "<style scoped>\n",
       "    .dataframe tbody tr th:only-of-type {\n",
       "        vertical-align: middle;\n",
       "    }\n",
       "\n",
       "    .dataframe tbody tr th {\n",
       "        vertical-align: top;\n",
       "    }\n",
       "\n",
       "    .dataframe thead th {\n",
       "        text-align: right;\n",
       "    }\n",
       "</style>\n",
       "<table border=\"1\" class=\"dataframe\">\n",
       "  <thead>\n",
       "    <tr style=\"text-align: right;\">\n",
       "      <th></th>\n",
       "      <th>stdColor_0</th>\n",
       "      <th>stdColor_1</th>\n",
       "      <th>stdColor_2</th>\n",
       "      <th>stdColor_3</th>\n",
       "      <th>stdColor_4</th>\n",
       "      <th>lcNonPeriodic[9]_u</th>\n",
       "      <th>lcNonPeriodic[9]_g</th>\n",
       "      <th>lcNonPeriodic[9]_r</th>\n",
       "      <th>lcNonPeriodic[9]_i</th>\n",
       "      <th>lcNonPeriodic[9]_z</th>\n",
       "      <th>...</th>\n",
       "      <th>lcNonPeriodic[25]_g</th>\n",
       "      <th>lcNonPeriodic[25]_r</th>\n",
       "      <th>lcNonPeriodic[25]_i</th>\n",
       "      <th>lcNonPeriodic[25]_z</th>\n",
       "      <th>lcNonPeriodic[26]_u</th>\n",
       "      <th>lcNonPeriodic[26]_g</th>\n",
       "      <th>lcNonPeriodic[26]_r</th>\n",
       "      <th>lcNonPeriodic[26]_i</th>\n",
       "      <th>lcNonPeriodic[26]_z</th>\n",
       "      <th>pm</th>\n",
       "    </tr>\n",
       "    <tr>\n",
       "      <th>objectId</th>\n",
       "      <th></th>\n",
       "      <th></th>\n",
       "      <th></th>\n",
       "      <th></th>\n",
       "      <th></th>\n",
       "      <th></th>\n",
       "      <th></th>\n",
       "      <th></th>\n",
       "      <th></th>\n",
       "      <th></th>\n",
       "      <th></th>\n",
       "      <th></th>\n",
       "      <th></th>\n",
       "      <th></th>\n",
       "      <th></th>\n",
       "      <th></th>\n",
       "      <th></th>\n",
       "      <th></th>\n",
       "      <th></th>\n",
       "      <th></th>\n",
       "      <th></th>\n",
       "    </tr>\n",
       "  </thead>\n",
       "  <tbody>\n",
       "    <tr>\n",
       "      <th>0271518</th>\n",
       "      <td>1.902520</td>\n",
       "      <td>0.765320</td>\n",
       "      <td>0.258804</td>\n",
       "      <td>0.117029</td>\n",
       "      <td>0.137209</td>\n",
       "      <td>0.236822</td>\n",
       "      <td>0.025739</td>\n",
       "      <td>0.034760</td>\n",
       "      <td>0.041333</td>\n",
       "      <td>0.066537</td>\n",
       "      <td>...</td>\n",
       "      <td>0.151992</td>\n",
       "      <td>0.188360</td>\n",
       "      <td>0.172366</td>\n",
       "      <td>0.165983</td>\n",
       "      <td>2.258671</td>\n",
       "      <td>1.949031</td>\n",
       "      <td>2.034430</td>\n",
       "      <td>1.727948</td>\n",
       "      <td>1.874601</td>\n",
       "      <td>1.145322</td>\n",
       "    </tr>\n",
       "    <tr>\n",
       "      <th>0271533</th>\n",
       "      <td>1.109498</td>\n",
       "      <td>0.036849</td>\n",
       "      <td>-0.062246</td>\n",
       "      <td>-0.046278</td>\n",
       "      <td>-0.078764</td>\n",
       "      <td>0.094176</td>\n",
       "      <td>0.036093</td>\n",
       "      <td>0.024445</td>\n",
       "      <td>0.025993</td>\n",
       "      <td>0.082291</td>\n",
       "      <td>...</td>\n",
       "      <td>0.166757</td>\n",
       "      <td>0.126121</td>\n",
       "      <td>0.204980</td>\n",
       "      <td>0.136425</td>\n",
       "      <td>2.005287</td>\n",
       "      <td>2.160760</td>\n",
       "      <td>2.167559</td>\n",
       "      <td>1.781991</td>\n",
       "      <td>2.218084</td>\n",
       "      <td>0.528019</td>\n",
       "    </tr>\n",
       "  </tbody>\n",
       "</table>\n",
       "<p>2 rows × 46 columns</p>\n",
       "</div>"
      ],
      "text/plain": [
       "          stdColor_0  stdColor_1  stdColor_2  stdColor_3  stdColor_4  \\\n",
       "objectId                                                               \n",
       "0271518     1.902520    0.765320    0.258804    0.117029    0.137209   \n",
       "0271533     1.109498    0.036849   -0.062246   -0.046278   -0.078764   \n",
       "\n",
       "          lcNonPeriodic[9]_u  lcNonPeriodic[9]_g  lcNonPeriodic[9]_r  \\\n",
       "objectId                                                               \n",
       "0271518             0.236822            0.025739            0.034760   \n",
       "0271533             0.094176            0.036093            0.024445   \n",
       "\n",
       "          lcNonPeriodic[9]_i  lcNonPeriodic[9]_z  ...  lcNonPeriodic[25]_g  \\\n",
       "objectId                                          ...                        \n",
       "0271518             0.041333            0.066537  ...             0.151992   \n",
       "0271533             0.025993            0.082291  ...             0.166757   \n",
       "\n",
       "          lcNonPeriodic[25]_r  lcNonPeriodic[25]_i  lcNonPeriodic[25]_z  \\\n",
       "objectId                                                                  \n",
       "0271518              0.188360             0.172366             0.165983   \n",
       "0271533              0.126121             0.204980             0.136425   \n",
       "\n",
       "          lcNonPeriodic[26]_u  lcNonPeriodic[26]_g  lcNonPeriodic[26]_r  \\\n",
       "objectId                                                                  \n",
       "0271518              2.258671             1.949031             2.034430   \n",
       "0271533              2.005287             2.160760             2.167559   \n",
       "\n",
       "          lcNonPeriodic[26]_i  lcNonPeriodic[26]_z        pm  \n",
       "objectId                                                      \n",
       "0271518              1.727948             1.874601  1.145322  \n",
       "0271533              1.781991             2.218084  0.528019  \n",
       "\n",
       "[2 rows x 46 columns]"
      ]
     },
     "execution_count": 8,
     "metadata": {},
     "output_type": "execute_result"
    }
   ],
   "source": [
    "# gather column names\n",
    "cls_color_cols = [col for col in blinded_df.columns \n",
    "                    if ('stdColor' in col) & ('Err' not in col)]\n",
    "\n",
    "# lc Non Periodic columns\n",
    "lc_NP_index = [9, 13, 15, 19, 20, 22, 25, 26]\n",
    "cls_lc_cols = []\n",
    "for idx in lc_NP_index:\n",
    "    cls_lc_cols += [col for col in blinded_df.columns \n",
    "                    if f'lcNonPeriodic[{idx}]' in col]\n",
    "\n",
    "feats_cols = cls_color_cols + cls_lc_cols\n",
    "blinded_feats = blinded_df[feats_cols].copy()\n",
    "\n",
    "# add proper motion\n",
    "pm = np.log10(np.sqrt(blinded_df['psPm_ra']**2 + blinded_df['psPm_dec']**2))\n",
    "pm.name = 'pm'\n",
    "\n",
    "blinded_feats = blinded_feats.join(pm, how='left')\n",
    "\n",
    "# fill nan\n",
    "blinded_feats = blinded_feats.fillna(0)\n",
    "blinded_feats.head(2)"
   ]
  },
  {
   "cell_type": "markdown",
   "metadata": {},
   "source": [
    "#### 4.3 Load Pre-trained Model"
   ]
  },
  {
   "cell_type": "code",
   "execution_count": 9,
   "metadata": {},
   "outputs": [
    {
     "name": "stdout",
     "output_type": "stream",
     "text": [
      "Model: \"full\"\n",
      "__________________________________________________________________________________________________\n",
      "Layer (type)                    Output Shape         Param #     Connected to                     \n",
      "==================================================================================================\n",
      "dm_input (InputLayer)           [(None, 32, 32, 1)]  0                                            \n",
      "__________________________________________________________________________________________________\n",
      "conv2d (Conv2D)                 (None, 28, 28, 32)   320         dm_input[0][0]                   \n",
      "__________________________________________________________________________________________________\n",
      "average_pooling2d (AveragePooli (None, 14, 14, 32)   0           conv2d[0][0]                     \n",
      "__________________________________________________________________________________________________\n",
      "conv2d_1 (Conv2D)               (None, 12, 12, 64)   18496       average_pooling2d[0][0]          \n",
      "__________________________________________________________________________________________________\n",
      "max_pooling2d (MaxPooling2D)    (None, 6, 6, 64)     0           conv2d_1[0][0]                   \n",
      "__________________________________________________________________________________________________\n",
      "conv2d_2 (Conv2D)               (None, 4, 4, 64)     36928       max_pooling2d[0][0]              \n",
      "__________________________________________________________________________________________________\n",
      "flatten (Flatten)               (None, 1024)         0           conv2d_2[0][0]                   \n",
      "__________________________________________________________________________________________________\n",
      "dense (Dense)                   (None, 64)           65600       flatten[0][0]                    \n",
      "__________________________________________________________________________________________________\n",
      "tb_input (InputLayer)           [(None, 46)]         0                                            \n",
      "__________________________________________________________________________________________________\n",
      "concatenate (Concatenate)       (None, 110)          0           dense[0][0]                      \n",
      "                                                                 tb_input[0][0]                   \n",
      "__________________________________________________________________________________________________\n",
      "dense_1 (Dense)                 (None, 64)           7104        concatenate[0][0]                \n",
      "__________________________________________________________________________________________________\n",
      "dense_2 (Dense)                 (None, 3)            195         dense_1[0][0]                    \n",
      "==================================================================================================\n",
      "Total params: 128,643\n",
      "Trainable params: 128,643\n",
      "Non-trainable params: 0\n",
      "__________________________________________________________________________________________________\n"
     ]
    }
   ],
   "source": [
    "full_model = tf.keras.models.load_model('full_model.h5')\n",
    "full_model.summary()"
   ]
  },
  {
   "cell_type": "markdown",
   "metadata": {},
   "source": [
    "#### 4.4 Test on the blinded dataset"
   ]
  },
  {
   "cell_type": "code",
   "execution_count": 11,
   "metadata": {},
   "outputs": [],
   "source": [
    "blinded_imgs = blinded_imgs[:, :, :, np.newaxis]/255.0\n",
    "blinded_feats = blinded_feats.values"
   ]
  },
  {
   "cell_type": "code",
   "execution_count": 12,
   "metadata": {},
   "outputs": [],
   "source": [
    "# replace class str with int\n",
    "blinded_df = blinded_df.replace({'class': {'Star': 2, 'Gal': 1, 'Qso': 0, 'Agn': 0}})\n",
    "\n",
    "# get labels, object_ids\n",
    "b_labels = blinded_df['class'].values.astype(str).astype(int)"
   ]
  },
  {
   "cell_type": "code",
   "execution_count": 13,
   "metadata": {},
   "outputs": [],
   "source": [
    "# make prediction\n",
    "b_pred = full_model.predict({'dm_input':blinded_imgs, 'tb_input':blinded_feats})\n",
    "b_pred_labels = np.argmax(b_pred, axis=1)"
   ]
  },
  {
   "cell_type": "markdown",
   "metadata": {},
   "source": [
    "##### **Prediction Loss/Accuray**"
   ]
  },
  {
   "cell_type": "code",
   "execution_count": 14,
   "metadata": {},
   "outputs": [
    {
     "name": "stdout",
     "output_type": "stream",
     "text": [
      "loss: 0.0871 - accuracy: 0.9735\n"
     ]
    }
   ],
   "source": [
    "# print test loss\n",
    "loss_func = tf.keras.losses.SparseCategoricalCrossentropy(from_logits=True)\n",
    "b_loss = loss_func(b_labels, b_pred).numpy()\n",
    "\n",
    "# print test accuracy\n",
    "acc_func = tf.keras.metrics.SparseCategoricalAccuracy()\n",
    "acc_func.update_state(b_labels, b_pred);\n",
    "b_acc = acc_func.result().numpy()\n",
    "\n",
    "print(f'loss: {b_loss:.4f} - accuracy: {b_acc:.4f}')"
   ]
  },
  {
   "cell_type": "markdown",
   "metadata": {},
   "source": [
    "##### **Make a confusion matrix**"
   ]
  },
  {
   "cell_type": "code",
   "execution_count": 20,
   "metadata": {},
   "outputs": [
    {
     "data": {
      "text/plain": [
       "Text(0.5, 1.0, 'Normalized by predicted labels (purity)')"
      ]
     },
     "execution_count": 20,
     "metadata": {},
     "output_type": "execute_result"
    },
    {
     "data": {
      "image/png": "[encoded data removed]",
      "text/plain": [
       "<Figure size 1800x600 with 4 Axes>"
      ]
     },
     "metadata": {},
     "output_type": "display_data"
    }
   ],
   "source": [
    "# make plots    \n",
    "fig, axes = plt.subplots(1, 2, dpi=120, figsize=(15, 5))\n",
    "\n",
    "str_labels = ['Qso/Agn', 'Gal', 'Star']\n",
    "cf_n_t = confusion_matrix(b_labels, b_pred_labels, normalize='true')\n",
    "cf_n_p = confusion_matrix(b_labels, b_pred_labels, normalize='pred')\n",
    "ConfusionMatrixDisplay(cf_n_t, display_labels=str_labels).plot(ax=axes[0])\n",
    "ConfusionMatrixDisplay(cf_n_p, display_labels=str_labels).plot(ax=axes[1])    \n",
    "axes[0].set_title('Normalized by true labels (recall)', pad=15, fontsize=15)\n",
    "axes[1].set_title('Normalized by predicted labels (purity)', pad=15, fontsize=15)"
   ]
  }
 ],
 "metadata": {
  "kernelspec": {
   "display_name": "Python 3.8 (py38)",
   "language": "python",
   "name": "py38"
  },
  "language_info": {
   "codemirror_mode": {
    "name": "ipython",
    "version": 3
   },
   "file_extension": ".py",
   "mimetype": "text/x-python",
   "name": "python",
   "nbconvert_exporter": "python",
   "pygments_lexer": "ipython3",
   "version": "3.8.5"
  }
 },
 "nbformat": 4,
 "nbformat_minor": 4
}
