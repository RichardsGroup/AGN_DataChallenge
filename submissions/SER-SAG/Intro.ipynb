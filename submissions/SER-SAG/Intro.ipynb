{
 "cells": [
  {
   "cell_type": "markdown",
   "metadata": {},
   "source": [
    "Dear Gordon and Weixiang,\n",
    "\n",
    "On behalf of the SER-SAG AGN Data Challenge Team, we are submitting our contribution to the LSST AGN Data Challenge. We have prepared the following notebooks:  \n",
    "  \n",
    "0. N0: [Intro.ipynb](./Intro.ipynb)  \n",
    "1. N1: [NN_SVM_RF_classification_supervised.ipynb](./NN_SVM_RF_classification_supervised.ipynb)  \n",
    "2. N2: [NN_classification_supervised_dense_images.ipynb](./NN_classification_supervised_dense_images.ipynb)  \n",
    "3. N3: [NN_unsupervised_aeclustering.ipynb](./NN_unsupervised_aeclustering.ipynb)  \n",
    "4. N4: [AppendixA.ipynb](./AppendixA.ipynb) - Photometric redshift regression for galaxies\n",
    "5. N5: [AppendixB.ipynb](./AppendixB.ipynb) - Improving classification accuracy by addressing outliers  \n",
    "\n",
    "Notebooks N1, N2 and N3 are the main contributions addressing the AGN classification problem using supervised and unsupervised machine learning methods. In N1, we compare performance of simple neural network, Random Forest and Support Vector Machines in Star/Galaxy/Qso classification task using tabular data from Stripe82 Object Table. N2 explores how Star/Galaxy/Qso classification accuracy improves when we combine images with tabular data in the process of neural network training. In N3, we test an unsupervised learning method called Deep Embedding Clustering to address AGN selection and classification. \n",
    "\n",
    "The Appendix contains notebooks N4 and N5. In N4, photometric redshift of galaxies is estimated using neural network and random forest method and results are compared to the photo-Z data provided in the Data Challenge. In N5, we test if Star/Galaxy/Qso classification accuracy obtained using Support Vector Machines and Random Forest is improved if outliers are detected and removed from the sample using robust outlier detection method we implemented (code included in RLLE.py file).\n",
    "Each notebook is supplemented with the required information about notebook reproducibility, whether it should be run on the blinded dataset, whether pre-trained models are available and more. We remain at your disposal for running the notebooks.\n",
    "\n",
    "Main contributors: Djordje Savic & Isidora Jankov  \n",
    "Other contributors: Iva Cvorovic Hajdinjak  \n",
    "Kind regards,  \n",
    "SER-SAG AGN Data Challenge Team  "
   ]
  }
 ],
 "metadata": {
  "kernelspec": {
   "display_name": "Python 3.8 (py38)",
   "language": "python",
   "name": "py38"
  },
  "language_info": {
   "codemirror_mode": {
    "name": "ipython",
    "version": 3
   },
   "file_extension": ".py",
   "mimetype": "text/x-python",
   "name": "python",
   "nbconvert_exporter": "python",
   "pygments_lexer": "ipython3",
   "version": "3.8.5"
  }
 },
 "nbformat": 4,
 "nbformat_minor": 4
}
