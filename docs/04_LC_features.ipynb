{
 "cells": [
  {
   "cell_type": "markdown",
   "metadata": {},
   "source": [
    "## LC Features\n",
    "\n",
    "This notebook goes over the light curve features computed for the sources that have corresponding time-domain data from SDSS, more specifically, the features that populated the `lcPeriodic` and `lcNonPeriodic` columns. The majority of the features computed are those mentioned in the 'Richards et al. 2011' (**R11**) paper (see [here](https://arxiv.org/abs/1101.1959)). Some additional features computed include best-fit CARMA(1,0)/DRW and CARMA(2,1) parameters obtained using [EzTao](https://github.com/ywx649999311/EzTao) and those introduced by [FATS](http://isadoranun.github.io/tsfeat/FeaturesDocumentation.html). The __R11__ features and FATS features are computed using [$\\texttt{cesium}$](http://cesium-ml.org/)\n",
    "\n",
    "Next, we will briefly go through those light curves features by the index, starting with the `lcPeriodic` features. __Note__ that a 5 sigma clipping was applied before the following variability metrics were computed because the calibration issue of SDSS light curves as discussed in 'Schmidt et al. 2010' (see [here](https://arxiv.org/abs/1002.2642))."
   ]
  },
  {
   "cell_type": "markdown",
   "metadata": {},
   "source": [
    "### 1. `lcPeriodic`"
   ]
  },
  {
   "cell_type": "markdown",
   "metadata": {},
   "source": [
    "- #### 0 - 3\n",
    "Four best-fit CARMA(2,1)/DHO parameters, $\\alpha_{1}$, $\\alpha_{2}$, $\\beta_{0}$ and $\\beta_{1}$. The fitting was performed in flux.\n",
    "\n",
    "- #### 4 - 32\n",
    "Generalized Lomb Scargle fit/parameters as described in the __R11__ papaer. The exact matching from index to features is given below. Note that first relative phase ('rel_phase_0') are not included since it is mostly just zero. \n",
    "\n",
    ">    4: freq1_harmonics_amplitude_0\\\n",
    "    5: freq1_harmonics_amplitude_1\\\n",
    "    6: freq1_harmonics_amplitude_2\\\n",
    "    7: freq1_harmonics_amplitude_3\\\n",
    "    8: freq1_harmonics_freq_0\\\n",
    "    9: freq1_harmonics_rel_phase_1\\\n",
    "    10: freq1_harmonics_rel_phase_2\\\n",
    "    11: freq1_harmonics_rel_phase_3\\\n",
    "    12: freq2_harmonics_amplitude_0\\\n",
    "    13: freq2_harmonics_amplitude_1\\\n",
    "    14: freq2_harmonics_amplitude_2\\\n",
    "    15: freq2_harmonics_amplitude_3\\\n",
    "    16: freq2_harmonics_freq_0\\\n",
    "    17: freq2_harmonics_rel_phase_1\\\n",
    "    18: freq2_harmonics_rel_phase_2\\\n",
    "    19: freq2_harmonics_rel_phase_3\\\n",
    "    20: freq3_harmonics_amplitude_0\\\n",
    "    21: freq3_harmonics_amplitude_1\\\n",
    "    22: freq3_harmonics_amplitude_2\\\n",
    "    23: freq3_harmonics_amplitude_3\\\n",
    "    24: freq3_harmonics_freq_0\\\n",
    "    25: freq3_harmonics_rel_phase_1\\\n",
    "    26: freq3_harmonics_rel_phase_2\\\n",
    "    27: freq3_harmonics_rel_phase_3\\\n",
    "    28: freq_signif\\\n",
    "    29: freq_signif_ratio_21\\\n",
    "    30: freq_signif_ratio_31\\\n",
    "    31: freq_varrat\\\n",
    "    32: freq_y_offset"
   ]
  },
  {
   "cell_type": "markdown",
   "metadata": {},
   "source": [
    "### 2. `lcNonPeriodic`\n",
    "All metrics/features are computed using magnitude if not noted otherwise."
   ]
  },
  {
   "cell_type": "markdown",
   "metadata": {},
   "source": [
    "- #### 0 - 20\n",
    "    Non-periodic features introduced in the __R11__ paper.\n",
    "\n",
    ">    0: Amplitude: half the difference between the maximum and the minimum magnitude\\\n",
    "    1: beyond1std: percentage of points beyond one st. dev. from the weighted mean\\\n",
    "    2: flux_percentile_ratio_mid20: ratio of magnitude percentiles (60th–40th) over (95th–5th)\\\n",
    "    3: flux_percentile_ratio_mid35: ratio of magnitude percentiles (67.5th–32.5th) over (95th–5th)\\\n",
    "    4: flux_percentile_ratio_mid50: ratio of magnitude percentiles (75th–25th) over (95th–5th)\\\n",
    "    5: flux_percentile_ratio_mid65: ratio of magnitude percentiles (82.5th–17.5th) over (95th–5th)\\\n",
    "    6: flux_percentile_ratio_mid80: ratio of magnitude percentiles (90th–10th) over (95th–5th)\\\n",
    "    7: linear_trend: slope of a linear fit to the light-curve magnitude\\\n",
    "    8: max_slope: maximum absolute magnitude slope between two consecutive observations\\\n",
    "    9: median_absolute_deviation: median discrepancy of the magnitudes from the median magnitude\\\n",
    "    10: median_buffer_range_percentage: percentage of magnitudes within 10% of the amplitude from the median\\\n",
    "    11: pair_slope_trend: percentage of all pairs of consecutive magnitude measurements that have positive slope\\\n",
    "    12: percent_amplitude: largest percentage difference between either the max or min flux and the median\\\n",
    "    13: percent_difference_flux_percentile: difference between the 5th and 95th flux percentiles, expressed as a percentage of the median value\\\n",
    "    14: QSO: quasar variability metric in Butler & Bloom (2011), log(chi2_QSO)\\\n",
    "    15: non_QSO: non-quasar variability metric in Butler & Bloom (2011), log(chi2_falseQSO)\\\n",
    "    16: skew: skew of the magnitudes\\\n",
    "    17: small_kurtosis: kurtosis of the magnitudes, reliable down to a small number of epochs\\\n",
    "    18: std: st. dev. of the magnitudes\\\n",
    "    19: stetson_j: robust covariance statistic between pairs of observations x,y whose uncertainties are dx,dy. If y is not given, calculates a robust variance for x.\\\n",
    "    20: stetson_k: a robust kurtosis statistic\\"
   ]
  },
  {
   "cell_type": "markdown",
   "metadata": {},
   "source": [
    "- #### 21\n",
    "    Variance divided by the median.\n",
    "\n",
    "- #### 22\n",
    "    Reduce $\\chi^{2}$ for a constant model\n",
    "\n",
    "    $$\\chi^{2} / \\text { d.o.f. }=\\frac{1}{N-1} \\sum_{i=1}^{N}\\left(\\frac{m_{i}-\\bar{m}}{\\sigma_{i}}\\right)^{2}$$\n",
    "    \n",
    "    where $\\bar{m}$ is the inverse variance weighted average.\n",
    "\n",
    "- #### 23\n",
    "    Excess variance, see 'arXiv:1710.10943' for more details.\n",
    "    \n",
    "    $$\n",
    "    \\begin{aligned}\n",
    "    \\sigma_{\\text {sys }}^{2} & \\equiv\\left\\langle\\Delta m_{i}^{2}-\\sigma_{\\text {stat }, i}^{2}\\right\\rangle \\\\\n",
    "    \\Delta m_{i} & \\equiv \\frac{m_{i}-\\bar{m}}{\\sqrt{1-w_{i} / \\sum w_{j}}} \\\\\n",
    "    w_{i} & \\equiv \\sigma_{\\text {stat }, i}^{-2} \\\\\n",
    "    \\bar{m} & \\equiv \\frac{\\sum w_{j} m_{j}}{\\sum w_{j}}\n",
    "    \\end{aligned}\n",
    "    $$\n",
    "    \n",
    "    where $\\sigma_{\\text {sys }}^{2}$ is the excess variance and $\\sigma_{\\text {stat }, i}$ is the photometric uncertainty.\n",
    "    \n",
    "- #### 24\n",
    "    Normalized excess variance, see 'arXiv:1202.3786'\n",
    "    \n",
    "    $$\\sigma_{\\text {sys, norm }}^{2} \\equiv \\frac{\\sigma_{\\text {sys }}^{2}}{N \\bar{m}^{2}}$$\n",
    "    \n",
    "- #### 25\n",
    "    Range of a cumulative sum, see 'arXiv:1101.3316'\n",
    "    \n",
    "    $$\n",
    "    \\begin{aligned}\n",
    "    R_{\\mathrm{CS}} &=\\max (S)-\\min (S) \\\\\n",
    "    S_{l} &=\\frac{1}{N \\sigma} \\sum_{i=1}^{l}\\left(m_{i}-\\bar{m}\\right)\n",
    "    \\end{aligned}\n",
    "    $$\n",
    "    \n",
    "- #### 26\n",
    "    The von Neumann ratio\n",
    "    $$\\eta=\\frac{1}{(N-1) \\sigma^{2}} \\sum_{i=1}^{N-1}\\left(m_{i+1}-m_{i}\\right)^{2}$$\n",
    "    \n",
    "- #### 27 - 28\n",
    "    Best fit CARMA(1,0)/DRW parameters\n",
    "    \n",
    "    27: The driving amplitude $\\sigma$, or $\\beta_{0}$ in the CARMA notation. (see 'arXiv: 0903.5315') \\\n",
    "    28: The characteristic timescale described by the DRW model, or $1/\\alpha_{1}$ in the CARMA notation."
   ]
  }
 ],
 "metadata": {
  "kernelspec": {
   "display_name": "AGN DC",
   "language": "python",
   "name": "agndc"
  },
  "language_info": {
   "codemirror_mode": {
    "name": "ipython",
    "version": 3
   },
   "file_extension": ".py",
   "mimetype": "text/x-python",
   "name": "python",
   "nbconvert_exporter": "python",
   "pygments_lexer": "ipython3",
   "version": "3.9.5"
  }
 },
 "nbformat": 4,
 "nbformat_minor": 4
}
