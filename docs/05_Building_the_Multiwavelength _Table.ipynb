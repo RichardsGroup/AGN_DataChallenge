{
 "cells": [
  {
   "cell_type": "markdown",
   "metadata": {},
   "source": [
    "## Building the Multiwavelength Table(s)\n",
    "This notebook provides some basic information on the multiwavelength tables provided along with the `Object` table. The multiwavelength data are obtained by performing positional cross-match between our source positions and other catalogs. Some basic statistics are provided below. \n",
    "\n",
    "__Note:__  We do not provided a merged multiwavelength table."
   ]
  },
  {
   "cell_type": "code",
   "execution_count": 1,
   "metadata": {},
   "outputs": [],
   "source": [
    "import yaml"
   ]
  },
  {
   "cell_type": "markdown",
   "metadata": {},
   "source": [
    "### 1. Stripe 82"
   ]
  },
  {
   "cell_type": "markdown",
   "metadata": {},
   "source": [
    "#### 1.1 Multiwavelength Data Included\n",
    "- __UV__: GALEX\n",
    "- __NIR__: UKIDSS\n",
    "- __MIR__: Spitzer ([SpIES](https://iopscience.iop.org/article/10.3847/0067-0049/225/1/1))"
   ]
  },
  {
   "cell_type": "markdown",
   "metadata": {},
   "source": [
    "#### 1.2 Matching Radius (arcsec)\n",
    "\n",
    "|        |      QSOs | HighZ QSOs |      Galaxies |      Stars |\n",
    "| ------ | --------- | ---------- | ------------- | ---------- |\n",
    "| GALEX  | 5         | 5          | 5             | 5          |\n",
    "| UKIDSS | 1         | 2          | 1             | 1          |\n",
    "| Spitzer| 1         | 2          | 1             | 1          |"
   ]
  },
  {
   "cell_type": "markdown",
   "metadata": {},
   "source": [
    "#### 1.3 Columns Definitions"
   ]
  },
  {
   "cell_type": "code",
   "execution_count": 3,
   "metadata": {},
   "outputs": [
    {
     "data": {
      "text/plain": [
       "{'objectId': 'Unique ID for each object same as the ones used in the Object able, used as index in the multiwavelength table',\n",
       " 'galex_id': 'GALEX ID for the matched object',\n",
       " 'src2galex': 'Distance from source to the GALEX match (arcsec)',\n",
       " 'fuv_mag': 'GALEX FUV magnitude (AB)',\n",
       " 'fuv_magerr': 'GALEX FUV magnitude error',\n",
       " 'nuv_mag': 'GALEX NUV magnitude (AB)',\n",
       " 'nuv_magerr': 'GALEX NUV magnitude error',\n",
       " 'spies_id': 'Unique ID assigned to each source in the two channel SpIES catalog',\n",
       " 'flux_aper_2_ch1': 'SpIES 3.6 microns flux (microjansky) extracted using a 1.9 arcsec aperature',\n",
       " 'fluxerr_aper_2_ch1': \"Error in 'flux_aper_2_ch1'\",\n",
       " 'flux_auto_ch1': 'SpIES 3.6 microns flux value (microjansky) automatically extracted using SExtractor',\n",
       " 'fluxerr_auto_ch1': \"Error in 'flux_auto_ch1'\",\n",
       " 'class_star_ch1': 'SpIES 3.6 micrometer morphology classification, > 0.5 for resolved source',\n",
       " 'flux_aper_2_ch2': 'SpIES 4.5 microns flux (microjansky) extracted using a 1.9 arcsec aperature',\n",
       " 'fluxerr_aper_2_ch2': \"Error in 'flux_aper_2_ch2'\",\n",
       " 'flux_auto_ch2': 'SpIES 4.5 micrometer flux value (microjansky) automatically extracted using SExtractor',\n",
       " 'fluxerr_auto_ch2': \"Error in 'flux_auto_ch2'\",\n",
       " 'class_star_ch2': 'SpIES 4.5 microns morphology classification, > 0.5 for resolved source',\n",
       " 'src2spies': 'Distance from source to the SpIES match (arcsec)',\n",
       " 'ukidss_id': 'Unique WSA ID of this merged source detection',\n",
       " 'src2ukidss': 'Distance from source to the UKIDSS match (arcsec)',\n",
       " 'ukidss_pstar': 'Probability that the source is a point source',\n",
       " 'ukidss_pgalaxy': 'Probability that the source is extended',\n",
       " 'a{band}': 'Galactic extinction correction in Y, J H, K',\n",
       " '{band}_apermag3': 'Default point source aperture mag (AB) in Y, J H, K',\n",
       " '{band}_apermag3err': 'Error in the associated Y, J H, K magnitude'}"
      ]
     },
     "execution_count": 3,
     "metadata": {},
     "output_type": "execute_result"
    }
   ],
   "source": [
    "yaml.safe_load(open('mw_cols.yml'))['s82mw_col_def']"
   ]
  },
  {
   "cell_type": "markdown",
   "metadata": {},
   "source": [
    "### 2. XMM-LSS\n",
    "In this region, the source positions for AGNs/QSOs are retrieved from the [XMM-SERVS](https://academic.oup.com/mnras/article-abstract/478/2/2132/4985846?redirectedFrom=fulltext) catalog, where likelihood-based cross-matching between X-ray sources and optical/IR catalogs were performed. We used the optical/IR positions they reported as our source positions for cross-matching with other multiwavelength catalogs."
   ]
  },
  {
   "cell_type": "markdown",
   "metadata": {},
   "source": [
    "#### 2.1 Multiwavelength Data Included\n",
    "- __X-ray__: XMM-Newton (XMM-SERVS); QSOs/AGNs only.\n",
    "- __UV__: GALEX\n",
    "- __NIR__: VISTA/VIDEO\n",
    "- __MIR__: Spitzer (DeepDrill)"
   ]
  },
  {
   "cell_type": "markdown",
   "metadata": {},
   "source": [
    "#### 2.2 Matching Radius\n",
    "\n",
    "|        | QSOs/AGNs | HighZ QSOs |      Galaxies |      Stars |\n",
    "| ------ | --------- | ---------- | ------------- | ---------- |\n",
    "| GALEX  | 5         | 5          | 5             | 5          |\n",
    "| VISTA  | 1         | 2          | 1             | 1          |\n",
    "| Spitzer| 1         | 2          | 1             | 1          |"
   ]
  },
  {
   "cell_type": "markdown",
   "metadata": {},
   "source": [
    "#### 2.3 Columns Definitions"
   ]
  },
  {
   "cell_type": "code",
   "execution_count": 4,
   "metadata": {},
   "outputs": [
    {
     "data": {
      "text/plain": [
       "{'objectId': 'Unique ID for each object same as the ones used in the Object able, used as index in the multiwavelength table',\n",
       " 'xid': 'XMM-SERVS ID',\n",
       " 'src2x': 'Distance from the optical/IR counterparts to the X-ray sources',\n",
       " 'sb_flux(err)': 'XMM-Newton soft band flux and error in erg/cm^2/s',\n",
       " 'hb_flux(err)': 'XMM-Newton hard band flux and error in erg/cm^2/s',\n",
       " 'fb_flux(err)': 'XMM-Newton full band flux and error in erg/cm^2/s',\n",
       " 'galex_id': 'GALEX ID for the matched object',\n",
       " 'src2galex': 'Distance from source to the GALEX match (arcsec)',\n",
       " 'fuv_mag': 'GALEX FUV magnitude (AB)',\n",
       " 'fuv_magerr': 'GALEX FUV magnitude error',\n",
       " 'nuv_mag': 'GALEX NUV magnitude (AB)',\n",
       " 'nuv_magerr': 'GALEX NUV magnitude error',\n",
       " 'hv_id': 'Unique ID for the matched source in the HSC/VISTA jointly processed catalog',\n",
       " 'src2hv': 'Distance from source to the HSC/VISTA match (arcsec)',\n",
       " 'vista_{band}_m_base_psfflux_mag(err)': 'VISTA PSF mag (AB) and error in J, H and Ks bands',\n",
       " 'vista_{band}_m_base_psfflux_flag': 'Flag for the correpsonding PSF mag',\n",
       " 'vista_{band}_m_slot_modelflux_mag(err)': 'VISTA cModel mag (AB) and error in J, H and Ks bands',\n",
       " 'vista_{band}_m_slot_modelflux_flag': 'Flag for the correpsonding cModel mag',\n",
       " 'vista_{band}_m_base_classificationextendedness_value': 'VISTA morphology measurement in J, H and Ks bands',\n",
       " 'vista_{band}_m_base_classificationextendedness_flag': 'Flag for the corresponding morphology measurement',\n",
       " 'dd_id': 'Unique ID assigned to each source in the two channel SpIES catalog',\n",
       " 'flux_aper_2_3p6': 'SpIES 3.6 microns flux (microjansky) extracted using a 1.9 arcsec aperature',\n",
       " 'fluxerr_aper_2_3p6': \"Error in 'flux_aper_2_3p6'\",\n",
       " 'flux_auto_3p6': 'SpIES 3.6 microns flux value (microjansky) automatically extracted using SExtractor',\n",
       " 'fluxerr_auto_3p6': \"Error in 'flux_auto_3p6'\",\n",
       " 'class_star_3p6': 'SpIES 3.6 micrometer morphology classification, > 0.5 for resolved source',\n",
       " 'flux_aper_2_4p5': 'SpIES 4.5 microns flux (microjansky) extracted using a 1.9 arcsec aperature',\n",
       " 'fluxerr_aper_2_4p5': \"Error in 'flux_aper_2_4p5'\",\n",
       " 'flux_auto_4p5': 'SpIES 4.5 micrometer flux value (microjansky) automatically extracted using SExtractor',\n",
       " 'fluxerr_auto_4p5': \"Error in 'flux_auto_4p5'\",\n",
       " 'class_star_4p5': 'SpIES 4.5 microns morphology classification, > 0.5 for resolved source',\n",
       " 'src2dd': 'Distance from source to the DeepDrill match (arcsec)'}"
      ]
     },
     "execution_count": 4,
     "metadata": {},
     "output_type": "execute_result"
    }
   ],
   "source": [
    "yaml.safe_load(open('mw_cols.yml'))['xmmlssmw_col_def']"
   ]
  }
 ],
 "metadata": {
  "kernelspec": {
   "display_name": "Python 3",
   "language": "python",
   "name": "python3"
  },
  "language_info": {
   "codemirror_mode": {
    "name": "ipython",
    "version": 3
   },
   "file_extension": ".py",
   "mimetype": "text/x-python",
   "name": "python",
   "nbconvert_exporter": "python",
   "pygments_lexer": "ipython3",
   "version": "3.8.6"
  }
 },
 "nbformat": 4,
 "nbformat_minor": 4
}
