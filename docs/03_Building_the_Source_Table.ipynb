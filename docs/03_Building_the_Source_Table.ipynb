{
 "cells": [
  {
   "cell_type": "markdown",
   "metadata": {},
   "source": [
    "## Building the Source Table(s)\n",
    "\n",
    "This notebook describes how the `Source` tables are constructed, starting with the **Stripe 82** dataset and followed the **XMM-LSS** dataset. The two `Source` tables are merged into one in the end. Much of the information listed here should be a replicate of the [01_Building_the_Object_Table.ipynb](01_Building_the_Object_Table.ipynb) notebook, thus we will reference that notebook wherever appropriate. \n",
    "\n",
    "__Note:__ This table is different than the 'ForcedSource' table, which is the place to get the light curves. Here, we provide at most one photometry (in each band) for every object, except in the XMM-LSS region where both DES and SDSS photometries are available."
   ]
  },
  {
   "cell_type": "markdown",
   "metadata": {},
   "source": [
    "### **1. Stripe 82**\n",
    "```bash\n",
    "-> s82SourceTable.parquet\n",
    "```"
   ]
  },
  {
   "cell_type": "markdown",
   "metadata": {},
   "source": [
    "### 1.1 IDs\n",
    "- `sourceId`: Unique source identifier\n",
    "- `objectId`: ID of the Object this source was associated with, if any."
   ]
  },
  {
   "cell_type": "markdown",
   "metadata": {},
   "source": [
    "### 1.2 Astrometry\n",
    "- `ra`, `dec`: The position of the matched photometry. For Stripe 82, they are SDSS DR16 positions. "
   ]
  },
  {
   "cell_type": "markdown",
   "metadata": {},
   "source": [
    "### 1.3 Photometry\n",
    "- `psMag`, `psMagErr`\n",
    "- `bdMag`, `bdMagErr`\n",
    "\n",
    "We matched our sources to the SDSS DR16 photoprimary catalog. The `psMag` column is populated using the 'psfmag' and the 'bdMag' is populated using the 'modelmag'.\n",
    "\n",
    "- `psFlux`, `psFluxErr`\n",
    "- `bdFlux`, `bdFluxErr`\n",
    "\n",
    "The fluxes are converted from asinh magnitudes following the procedure described in Section 1.2 of the [01_Building_the_Object_Table.ipynb](01_Building_the_Object_Table.ipynb) notebook."
   ]
  },
  {
   "cell_type": "markdown",
   "metadata": {},
   "source": [
    "### 1.4 Extendedness (morphology)\n",
    "- `extendedness`: See the [01_Building_the_Object_Table.ipynb](01_Building_the_Object_Table.ipynb) notebook."
   ]
  },
  {
   "cell_type": "markdown",
   "metadata": {},
   "source": [
    "### 1.5 flags\n",
    "Only SDSS photometries are used for the Stripe 82 source table, thus, we set the `flags` column to 0 if a match is found for a particular object, otherwise NaN.\n",
    "\n",
    "__Note:__ \n",
    "Since a series of cuts were already applied while obtaining the SDSS photometry (see [here](https://www.sdss.org/dr16/tutorials/flags/) for the exact cuts used), thus we presume that SDSS photometries are already 'clean'. "
   ]
  },
  {
   "cell_type": "markdown",
   "metadata": {},
   "source": [
    "### 1.6 filter\n",
    "This column won't be provided in the nominal 'Source' table either, but it can be obtained by joining with other tables."
   ]
  },
  {
   "cell_type": "markdown",
   "metadata": {},
   "source": [
    "### __2. XMM-LSS__\n",
    "```bash\n",
    "-> xmmlssSourceTable.parquet\n",
    "```"
   ]
  },
  {
   "cell_type": "markdown",
   "metadata": {},
   "source": [
    "### 2.1 IDs\n",
    "- `sourceId`: Unique source identifier\n",
    "- `objectId`: ID of the Object this source was associated with, if any."
   ]
  },
  {
   "cell_type": "markdown",
   "metadata": {},
   "source": [
    "### 2.2 Astrometry\n",
    "- `ra`, `dec`: The position of the matched photometry. \n",
    "\n",
    "For u band photometry, they are SDSS DR16 positions; for photometry in 'grizy' band, they are DES DR2 positions."
   ]
  },
  {
   "cell_type": "markdown",
   "metadata": {},
   "source": [
    "### 2.3 Photometry\n",
    "- `psMag`, `psMagErr`\n",
    "- `bdMag`, `bdMagErr`\n",
    "\n",
    "We matched our sources to the SDSS DR16 photoprimary catalog and the DES DR2 catalog. \n",
    "\n",
    "1. The point-source magnitude (`psMag`) is filled by 'psfmag' from SDSS in the u band and 'wavg_mag_psf' (weighted-average single epoch PSF magnitude) from DES in the 'grizy' bands. \n",
    "\n",
    "2. The extended-source magnitude (`bdMag`) is filled using 'modelmag' from SDSS in the u band and 'magauto' (measured on coadded images) from DES in the 'grizy' bands.\n",
    "    \n",
    "- `psFlux`, `psFluxErr`\n",
    "- `bdFlux`, `bdFluxErr`\n",
    "\n",
    "The fluxes are converted from asinh magnitudes (or AB magnitudes) following the procedure described in Section 1.2 of the [01_Building_the_Object_Table.ipynb](01_Building_the_Object_Table.ipynb) notebook."
   ]
  },
  {
   "cell_type": "markdown",
   "metadata": {},
   "source": [
    "### 2.4 Extendedness (morphology)\n",
    "- `extendedness`: See the [01_Building_the_Object_Table.ipynb](01_Building_the_Object_Table.ipynb) notebook."
   ]
  },
  {
   "cell_type": "markdown",
   "metadata": {},
   "source": [
    "### 2.5 flags\n",
    "- SDSS ('ugriz' bands): 0 if match is found and used.\n",
    "- DES ('grizy' bands): 0 if DES photometry flag <= 3 (as recommended)\n",
    "\n",
    "__Note:__ Since a series of cuts were already applied while obtaining the SDSS photometry (see [here](https://www.sdss.org/dr16/tutorials/flags/) for the exact cuts used), thus we presume that SDSS photometries are already 'clean'. "
   ]
  },
  {
   "cell_type": "markdown",
   "metadata": {},
   "source": [
    "### 2.6 filter\n",
    "This column won't be provided in the nominal 'Source' table either, but it can be obtained by joining with other tables."
   ]
  },
  {
   "cell_type": "markdown",
   "metadata": {},
   "source": [
    "### 3. The 'Source' Table\n",
    "```bash\n",
    "-> SourceTable.parquet\n",
    "```\n",
    "The last step is to merge the __Stripe 82__ source table and the __XMM-LSS__ source table. We did that by matching the __XMM-LSS__ objects with the __Stripe 82__ objects using a 0.5 arcsec radius. The Stripe 82 sources that have counterparts in the XMM-LSS sample are re-assigned the objectId using that from their counterparts in the XMM-LSS sample. "
   ]
  }
 ],
 "metadata": {
  "kernelspec": {
   "display_name": "AGN DC",
   "language": "python",
   "name": "agndc"
  },
  "language_info": {
   "codemirror_mode": {
    "name": "ipython",
    "version": 3
   },
   "file_extension": ".py",
   "mimetype": "text/x-python",
   "name": "python",
   "nbconvert_exporter": "python",
   "pygments_lexer": "ipython3",
   "version": "3.9.5"
  }
 },
 "nbformat": 4,
 "nbformat_minor": 4
}
